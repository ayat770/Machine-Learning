{
 "cells": [
  {
   "cell_type": "markdown",
   "metadata": {},
   "source": [
    "# Machine Learning day 2"
   ]
  },
  {
   "cell_type": "code",
   "execution_count": 1,
   "metadata": {},
   "outputs": [],
   "source": [
    "import sklearn\n",
    "import seaborn as sns\n",
    "import numpy as np\n",
    "from sklearn.datasets import load_boston\n",
    "import pandas as pd\n",
    "import matplotlib.pyplot as plt"
   ]
  },
  {
   "cell_type": "markdown",
   "metadata": {},
   "source": [
    "## 1- Load the data from the file (`auto-mpg.data`) into the DataFrame. Set the names of columns according to the column definitions given in Data Description."
   ]
  },
  {
   "cell_type": "code",
   "execution_count": 2,
   "metadata": {},
   "outputs": [],
   "source": [
    "col_names = ['mpg','cylinders','displacement','horsepower','weight','acceleration','model year','origin','car name']\n",
    "df = pd.read_csv(\"auto-mpg.csv\", header=None ,delim_whitespace=True)\n",
    "df.columns = col_names"
   ]
  },
  {
   "cell_type": "markdown",
   "metadata": {},
   "source": [
    "## 2- Data inspection. Display the first 5 rows of the dataset and use any relevant functions that can help you to understand the data. Use any necessary visualization techniques to inspect your data"
   ]
  },
  {
   "cell_type": "code",
   "execution_count": 3,
   "metadata": {},
   "outputs": [
    {
     "data": {
      "text/html": [
       "<div>\n",
       "<style scoped>\n",
       "    .dataframe tbody tr th:only-of-type {\n",
       "        vertical-align: middle;\n",
       "    }\n",
       "\n",
       "    .dataframe tbody tr th {\n",
       "        vertical-align: top;\n",
       "    }\n",
       "\n",
       "    .dataframe thead th {\n",
       "        text-align: right;\n",
       "    }\n",
       "</style>\n",
       "<table border=\"1\" class=\"dataframe\">\n",
       "  <thead>\n",
       "    <tr style=\"text-align: right;\">\n",
       "      <th></th>\n",
       "      <th>mpg</th>\n",
       "      <th>cylinders</th>\n",
       "      <th>displacement</th>\n",
       "      <th>horsepower</th>\n",
       "      <th>weight</th>\n",
       "      <th>acceleration</th>\n",
       "      <th>model year</th>\n",
       "      <th>origin</th>\n",
       "      <th>car name</th>\n",
       "    </tr>\n",
       "  </thead>\n",
       "  <tbody>\n",
       "    <tr>\n",
       "      <th>0</th>\n",
       "      <td>18.0</td>\n",
       "      <td>8</td>\n",
       "      <td>307.0</td>\n",
       "      <td>130.0</td>\n",
       "      <td>3504.0</td>\n",
       "      <td>12.0</td>\n",
       "      <td>70</td>\n",
       "      <td>1</td>\n",
       "      <td>chevrolet chevelle malibu</td>\n",
       "    </tr>\n",
       "    <tr>\n",
       "      <th>1</th>\n",
       "      <td>15.0</td>\n",
       "      <td>8</td>\n",
       "      <td>350.0</td>\n",
       "      <td>165.0</td>\n",
       "      <td>3693.0</td>\n",
       "      <td>11.5</td>\n",
       "      <td>70</td>\n",
       "      <td>1</td>\n",
       "      <td>buick skylark 320</td>\n",
       "    </tr>\n",
       "    <tr>\n",
       "      <th>2</th>\n",
       "      <td>18.0</td>\n",
       "      <td>8</td>\n",
       "      <td>318.0</td>\n",
       "      <td>150.0</td>\n",
       "      <td>3436.0</td>\n",
       "      <td>11.0</td>\n",
       "      <td>70</td>\n",
       "      <td>1</td>\n",
       "      <td>plymouth satellite</td>\n",
       "    </tr>\n",
       "    <tr>\n",
       "      <th>3</th>\n",
       "      <td>16.0</td>\n",
       "      <td>8</td>\n",
       "      <td>304.0</td>\n",
       "      <td>150.0</td>\n",
       "      <td>3433.0</td>\n",
       "      <td>12.0</td>\n",
       "      <td>70</td>\n",
       "      <td>1</td>\n",
       "      <td>amc rebel sst</td>\n",
       "    </tr>\n",
       "    <tr>\n",
       "      <th>4</th>\n",
       "      <td>17.0</td>\n",
       "      <td>8</td>\n",
       "      <td>302.0</td>\n",
       "      <td>140.0</td>\n",
       "      <td>3449.0</td>\n",
       "      <td>10.5</td>\n",
       "      <td>70</td>\n",
       "      <td>1</td>\n",
       "      <td>ford torino</td>\n",
       "    </tr>\n",
       "  </tbody>\n",
       "</table>\n",
       "</div>"
      ],
      "text/plain": [
       "    mpg  cylinders  displacement horsepower  weight  acceleration  model year  \\\n",
       "0  18.0          8         307.0      130.0  3504.0          12.0          70   \n",
       "1  15.0          8         350.0      165.0  3693.0          11.5          70   \n",
       "2  18.0          8         318.0      150.0  3436.0          11.0          70   \n",
       "3  16.0          8         304.0      150.0  3433.0          12.0          70   \n",
       "4  17.0          8         302.0      140.0  3449.0          10.5          70   \n",
       "\n",
       "   origin                   car name  \n",
       "0       1  chevrolet chevelle malibu  \n",
       "1       1          buick skylark 320  \n",
       "2       1         plymouth satellite  \n",
       "3       1              amc rebel sst  \n",
       "4       1                ford torino  "
      ]
     },
     "execution_count": 3,
     "metadata": {},
     "output_type": "execute_result"
    }
   ],
   "source": [
    "df.head()"
   ]
  },
  {
   "cell_type": "code",
   "execution_count": 4,
   "metadata": {},
   "outputs": [
    {
     "name": "stdout",
     "output_type": "stream",
     "text": [
      "<class 'pandas.core.frame.DataFrame'>\n",
      "RangeIndex: 398 entries, 0 to 397\n",
      "Data columns (total 9 columns):\n",
      " #   Column        Non-Null Count  Dtype  \n",
      "---  ------        --------------  -----  \n",
      " 0   mpg           398 non-null    float64\n",
      " 1   cylinders     398 non-null    int64  \n",
      " 2   displacement  398 non-null    float64\n",
      " 3   horsepower    398 non-null    object \n",
      " 4   weight        398 non-null    float64\n",
      " 5   acceleration  398 non-null    float64\n",
      " 6   model year    398 non-null    int64  \n",
      " 7   origin        398 non-null    int64  \n",
      " 8   car name      398 non-null    object \n",
      "dtypes: float64(4), int64(3), object(2)\n",
      "memory usage: 28.1+ KB\n"
     ]
    }
   ],
   "source": [
    "df.info()"
   ]
  },
  {
   "cell_type": "code",
   "execution_count": 5,
   "metadata": {},
   "outputs": [
    {
     "data": {
      "image/png": "[encoded data removed]",
      "text/plain": [
       "<Figure size 432x288 with 1 Axes>"
      ]
     },
     "metadata": {
      "needs_background": "light"
     },
     "output_type": "display_data"
    }
   ],
   "source": [
    "d1=df['mpg']\n",
    "d2=df['cylinders']\n",
    "d3=df['displacement']\n",
    "d4=df['horsepower'] # error --> could not convert string to float: '?'\n",
    "d5=df['weight']\n",
    "d6=df['acceleration']\n",
    "d7=df['model year']\n",
    "d8=df['origin']\n",
    "l=[d1,d2,d3,d5,d6,d7,d8]\n",
    "\n",
    "sns.boxplot(data=l)\n",
    "plt.show()"
   ]
  },
  {
   "cell_type": "code",
   "execution_count": 6,
   "metadata": {},
   "outputs": [
    {
     "data": {
      "text/plain": [
       "0      130.0\n",
       "1      165.0\n",
       "2      150.0\n",
       "3      150.0\n",
       "4      140.0\n",
       "       ...  \n",
       "393    86.00\n",
       "394    52.00\n",
       "395    84.00\n",
       "396    79.00\n",
       "397    82.00\n",
       "Name: horsepower, Length: 398, dtype: object"
      ]
     },
     "execution_count": 6,
     "metadata": {},
     "output_type": "execute_result"
    }
   ],
   "source": [
    "df['horsepower']"
   ]
  },
  {
   "cell_type": "code",
   "execution_count": 7,
   "metadata": {},
   "outputs": [],
   "source": [
    "df['horsepower'].replace('?',np.NAN,inplace = True)\n",
    "df['horsepower'] = df['horsepower'].astype(float, errors = 'raise')\n",
    "df['horsepower'].replace(np.NAN,df['horsepower'].median(),inplace=True)"
   ]
  },
  {
   "cell_type": "code",
   "execution_count": 8,
   "metadata": {},
   "outputs": [
    {
     "data": {
      "text/plain": [
       "0      130.0\n",
       "1      165.0\n",
       "2      150.0\n",
       "3      150.0\n",
       "4      140.0\n",
       "       ...  \n",
       "393     86.0\n",
       "394     52.0\n",
       "395     84.0\n",
       "396     79.0\n",
       "397     82.0\n",
       "Name: horsepower, Length: 398, dtype: float64"
      ]
     },
     "execution_count": 8,
     "metadata": {},
     "output_type": "execute_result"
    }
   ],
   "source": [
    "df['horsepower']"
   ]
  },
  {
   "cell_type": "code",
   "execution_count": 9,
   "metadata": {},
   "outputs": [
    {
     "data": {
      "image/png": "[encoded data removed]",
      "text/plain": [
       "<Figure size 432x288 with 1 Axes>"
      ]
     },
     "metadata": {
      "needs_background": "light"
     },
     "output_type": "display_data"
    }
   ],
   "source": [
    "d1=df['mpg']\n",
    "d2=df['cylinders']\n",
    "d3=df['displacement']\n",
    "d4=df['horsepower'] \n",
    "d5=df['weight']\n",
    "d6=df['acceleration']\n",
    "d7=df['model year']\n",
    "d8=df['origin']\n",
    "l=[d1,d2,d3,d4,d5,d6,d7,d8]\n",
    "\n",
    "sns.boxplot(data=l)\n",
    "plt.show()"
   ]
  },
  {
   "cell_type": "code",
   "execution_count": 10,
   "metadata": {},
   "outputs": [
    {
     "data": {
      "text/plain": [
       "(398, 9)"
      ]
     },
     "execution_count": 10,
     "metadata": {},
     "output_type": "execute_result"
    }
   ],
   "source": [
    "df.drop_duplicates()\n",
    "df.shape"
   ]
  },
  {
   "cell_type": "code",
   "execution_count": 11,
   "metadata": {},
   "outputs": [
    {
     "data": {
      "text/plain": [
       "(398, 9)"
      ]
     },
     "execution_count": 11,
     "metadata": {},
     "output_type": "execute_result"
    }
   ],
   "source": [
    "df.isnull().sum()\n",
    "df.shape"
   ]
  },
  {
   "cell_type": "code",
   "execution_count": 15,
   "metadata": {},
   "outputs": [
    {
     "data": {
      "text/html": [
       "<div>\n",
       "<style scoped>\n",
       "    .dataframe tbody tr th:only-of-type {\n",
       "        vertical-align: middle;\n",
       "    }\n",
       "\n",
       "    .dataframe tbody tr th {\n",
       "        vertical-align: top;\n",
       "    }\n",
       "\n",
       "    .dataframe thead th {\n",
       "        text-align: right;\n",
       "    }\n",
       "</style>\n",
       "<table border=\"1\" class=\"dataframe\">\n",
       "  <thead>\n",
       "    <tr style=\"text-align: right;\">\n",
       "      <th></th>\n",
       "      <th>mpg</th>\n",
       "      <th>cylinders</th>\n",
       "      <th>displacement</th>\n",
       "      <th>horsepower</th>\n",
       "      <th>weight</th>\n",
       "      <th>acceleration</th>\n",
       "      <th>model year</th>\n",
       "      <th>origin</th>\n",
       "    </tr>\n",
       "  </thead>\n",
       "  <tbody>\n",
       "    <tr>\n",
       "      <th>mpg</th>\n",
       "      <td>1</td>\n",
       "      <td>0.775396</td>\n",
       "      <td>0.804203</td>\n",
       "      <td>0.773453</td>\n",
       "      <td>0.831741</td>\n",
       "      <td>-</td>\n",
       "      <td>-</td>\n",
       "      <td>-</td>\n",
       "    </tr>\n",
       "    <tr>\n",
       "      <th>cylinders</th>\n",
       "      <td>0.775396</td>\n",
       "      <td>1</td>\n",
       "      <td>0.950721</td>\n",
       "      <td>0.841284</td>\n",
       "      <td>0.896017</td>\n",
       "      <td>-</td>\n",
       "      <td>-</td>\n",
       "      <td>-</td>\n",
       "    </tr>\n",
       "    <tr>\n",
       "      <th>displacement</th>\n",
       "      <td>0.804203</td>\n",
       "      <td>0.950721</td>\n",
       "      <td>1</td>\n",
       "      <td>0.895778</td>\n",
       "      <td>0.932824</td>\n",
       "      <td>-</td>\n",
       "      <td>-</td>\n",
       "      <td>0.609409</td>\n",
       "    </tr>\n",
       "    <tr>\n",
       "      <th>horsepower</th>\n",
       "      <td>0.773453</td>\n",
       "      <td>0.841284</td>\n",
       "      <td>0.895778</td>\n",
       "      <td>1</td>\n",
       "      <td>0.862442</td>\n",
       "      <td>0.68659</td>\n",
       "      <td>-</td>\n",
       "      <td>-</td>\n",
       "    </tr>\n",
       "    <tr>\n",
       "      <th>weight</th>\n",
       "      <td>0.831741</td>\n",
       "      <td>0.896017</td>\n",
       "      <td>0.932824</td>\n",
       "      <td>0.862442</td>\n",
       "      <td>1</td>\n",
       "      <td>-</td>\n",
       "      <td>-</td>\n",
       "      <td>-</td>\n",
       "    </tr>\n",
       "    <tr>\n",
       "      <th>acceleration</th>\n",
       "      <td>-</td>\n",
       "      <td>-</td>\n",
       "      <td>-</td>\n",
       "      <td>0.68659</td>\n",
       "      <td>-</td>\n",
       "      <td>1</td>\n",
       "      <td>-</td>\n",
       "      <td>-</td>\n",
       "    </tr>\n",
       "    <tr>\n",
       "      <th>model year</th>\n",
       "      <td>-</td>\n",
       "      <td>-</td>\n",
       "      <td>-</td>\n",
       "      <td>-</td>\n",
       "      <td>-</td>\n",
       "      <td>-</td>\n",
       "      <td>1</td>\n",
       "      <td>-</td>\n",
       "    </tr>\n",
       "    <tr>\n",
       "      <th>origin</th>\n",
       "      <td>-</td>\n",
       "      <td>-</td>\n",
       "      <td>0.609409</td>\n",
       "      <td>-</td>\n",
       "      <td>-</td>\n",
       "      <td>-</td>\n",
       "      <td>-</td>\n",
       "      <td>1</td>\n",
       "    </tr>\n",
       "  </tbody>\n",
       "</table>\n",
       "</div>"
      ],
      "text/plain": [
       "                   mpg cylinders displacement horsepower    weight  \\\n",
       "mpg                  1  0.775396     0.804203   0.773453  0.831741   \n",
       "cylinders     0.775396         1     0.950721   0.841284  0.896017   \n",
       "displacement  0.804203  0.950721            1   0.895778  0.932824   \n",
       "horsepower    0.773453  0.841284     0.895778          1  0.862442   \n",
       "weight        0.831741  0.896017     0.932824   0.862442         1   \n",
       "acceleration         -         -            -    0.68659         -   \n",
       "model year           -         -            -          -         -   \n",
       "origin               -         -     0.609409          -         -   \n",
       "\n",
       "             acceleration model year    origin  \n",
       "mpg                     -          -         -  \n",
       "cylinders               -          -         -  \n",
       "displacement            -          -  0.609409  \n",
       "horsepower        0.68659          -         -  \n",
       "weight                  -          -         -  \n",
       "acceleration            1          -         -  \n",
       "model year              -          1         -  \n",
       "origin                  -          -         1  "
      ]
     },
     "execution_count": 15,
     "metadata": {},
     "output_type": "execute_result"
    }
   ],
   "source": [
    "corr_matrix = df.corr().abs()\n",
    "targed_correlation = corr_matrix[ corr_matrix > 0.6]\n",
    "targed_correlation.fillna('-')\n",
    "\n",
    "# Here we can see the cylinders and displacement and horsepower and weight are the most correlated features with mpg"
   ]
  },
  {
   "cell_type": "code",
   "execution_count": 16,
   "metadata": {},
   "outputs": [
    {
     "data": {
      "text/plain": [
       "<AxesSubplot:>"
      ]
     },
     "execution_count": 16,
     "metadata": {},
     "output_type": "execute_result"
    },
    {
     "data": {
      "image/png": "[encoded data removed]",
      "text/plain": [
       "<Figure size 720x720 with 4 Axes>"
      ]
     },
     "metadata": {
      "needs_background": "light"
     },
     "output_type": "display_data"
    }
   ],
   "source": [
    "fig, axes = plt.subplots(nrows=2, ncols=2)\n",
    "df['cylinders'].plot(ax=axes[0,0],kind='box',figsize=(10,10))\n",
    "df['displacement'].plot(ax=axes[0,1],kind='box',figsize=(10,10))\n",
    "df['horsepower'].plot(ax=axes[1,0],kind='box',figsize=(10,10))\n",
    "df['weight'].plot(ax=axes[1,1],kind='box',figsize=(10,10))"
   ]
  },
  {
   "cell_type": "code",
   "execution_count": 17,
   "metadata": {},
   "outputs": [
    {
     "name": "stdout",
     "output_type": "stream",
     "text": [
      "Old Shape:  (398, 9)\n",
      "New Shape:  (387, 9)\n"
     ]
    }
   ],
   "source": [
    "Q1=df['horsepower'].quantile(0.25)\n",
    "Q3=df['horsepower'].quantile(0.75)\n",
    "IQR=Q3-Q1\n",
    "print(\"Old Shape: \", df.shape) \n",
    "not_outliers = df['horsepower'].between((Q1-1.5*IQR),(Q3+1.5*IQR))\n",
    "df = df[not_outliers]\n",
    "print(\"New Shape: \", df.shape) "
   ]
  },
  {
   "cell_type": "markdown",
   "metadata": {},
   "source": [
    "## 3- Prepare the data for regression. Now you have to select the best 3 different independent variables to be used individually in your linear regression Model. Justify your reasoning"
   ]
  },
  {
   "cell_type": "markdown",
   "metadata": {},
   "source": [
    "### 1-cylinders va mpg"
   ]
  },
  {
   "cell_type": "code",
   "execution_count": 21,
   "metadata": {},
   "outputs": [],
   "source": [
    "X = np.array(df['cylinders']).reshape(len(df),1)\n",
    "y = np.array(df['mpg'])"
   ]
  },
  {
   "cell_type": "code",
   "execution_count": 22,
   "metadata": {},
   "outputs": [],
   "source": [
    "from sklearn.model_selection import train_test_split\n",
    "X_train, X_test, y_train, y_test = train_test_split(X,y,test_size=0.5,random_state=0)"
   ]
  },
  {
   "cell_type": "code",
   "execution_count": 23,
   "metadata": {},
   "outputs": [
    {
     "data": {
      "text/plain": [
       "(193, 1)"
      ]
     },
     "execution_count": 23,
     "metadata": {},
     "output_type": "execute_result"
    }
   ],
   "source": [
    "X_train.shape"
   ]
  },
  {
   "cell_type": "code",
   "execution_count": 24,
   "metadata": {},
   "outputs": [
    {
     "data": {
      "text/plain": [
       "(193,)"
      ]
     },
     "execution_count": 24,
     "metadata": {},
     "output_type": "execute_result"
    }
   ],
   "source": [
    "y_train.shape"
   ]
  },
  {
   "cell_type": "code",
   "execution_count": 25,
   "metadata": {},
   "outputs": [
    {
     "data": {
      "text/plain": [
       "LinearRegression()"
      ]
     },
     "execution_count": 25,
     "metadata": {},
     "output_type": "execute_result"
    }
   ],
   "source": [
    "from sklearn.linear_model import LinearRegression\n",
    "regressor = LinearRegression()\n",
    "regressor.fit(X_train,y_train)"
   ]
  },
  {
   "cell_type": "code",
   "execution_count": 26,
   "metadata": {},
   "outputs": [
    {
     "data": {
      "text/plain": [
       "{'copy_X': True, 'fit_intercept': True, 'n_jobs': None, 'normalize': False}"
      ]
     },
     "execution_count": 26,
     "metadata": {},
     "output_type": "execute_result"
    }
   ],
   "source": [
    "regressor.get_params()"
   ]
  },
  {
   "cell_type": "code",
   "execution_count": 27,
   "metadata": {},
   "outputs": [
    {
     "data": {
      "text/plain": [
       "array([28.82829752, 21.53979234, 28.82829752, 28.82829752, 14.25128716,\n",
       "       14.25128716, 28.82829752, 14.25128716, 28.82829752, 21.53979234,\n",
       "       21.53979234, 14.25128716, 21.53979234, 14.25128716, 21.53979234,\n",
       "       14.25128716, 28.82829752, 28.82829752, 14.25128716, 28.82829752,\n",
       "       28.82829752, 21.53979234, 28.82829752, 28.82829752, 28.82829752,\n",
       "       28.82829752, 28.82829752, 28.82829752, 14.25128716, 21.53979234,\n",
       "       28.82829752, 28.82829752, 28.82829752, 28.82829752, 14.25128716,\n",
       "       14.25128716, 14.25128716, 28.82829752, 28.82829752, 14.25128716,\n",
       "       28.82829752, 14.25128716, 14.25128716, 28.82829752, 21.53979234,\n",
       "       28.82829752, 14.25128716, 21.53979234, 28.82829752, 28.82829752,\n",
       "       28.82829752, 28.82829752, 28.82829752, 21.53979234, 14.25128716,\n",
       "       28.82829752, 21.53979234, 14.25128716, 14.25128716, 28.82829752,\n",
       "       28.82829752, 28.82829752, 28.82829752, 28.82829752, 21.53979234,\n",
       "       28.82829752, 14.25128716, 28.82829752, 14.25128716, 28.82829752,\n",
       "       28.82829752, 14.25128716, 14.25128716, 21.53979234, 21.53979234,\n",
       "       28.82829752, 21.53979234, 21.53979234, 25.18404493, 14.25128716,\n",
       "       14.25128716, 28.82829752, 28.82829752, 28.82829752, 28.82829752,\n",
       "       28.82829752, 28.82829752, 32.4725501 , 28.82829752, 28.82829752,\n",
       "       28.82829752, 14.25128716, 28.82829752, 14.25128716, 28.82829752,\n",
       "       21.53979234, 28.82829752, 14.25128716, 28.82829752, 21.53979234,\n",
       "       21.53979234, 28.82829752, 21.53979234, 14.25128716, 28.82829752,\n",
       "       28.82829752, 28.82829752, 28.82829752, 14.25128716, 21.53979234,\n",
       "       28.82829752, 21.53979234, 14.25128716, 28.82829752, 14.25128716,\n",
       "       21.53979234, 14.25128716, 14.25128716, 14.25128716, 21.53979234,\n",
       "       21.53979234, 32.4725501 , 28.82829752, 28.82829752, 28.82829752,\n",
       "       28.82829752, 28.82829752, 28.82829752, 21.53979234, 28.82829752,\n",
       "       21.53979234, 21.53979234, 28.82829752, 21.53979234, 28.82829752,\n",
       "       28.82829752, 28.82829752, 21.53979234, 28.82829752, 28.82829752,\n",
       "       28.82829752, 28.82829752, 28.82829752, 28.82829752, 28.82829752,\n",
       "       14.25128716, 28.82829752, 14.25128716, 28.82829752, 28.82829752,\n",
       "       14.25128716, 28.82829752, 14.25128716, 21.53979234, 21.53979234,\n",
       "       14.25128716, 14.25128716, 21.53979234, 28.82829752, 21.53979234,\n",
       "       14.25128716, 21.53979234, 28.82829752, 28.82829752, 28.82829752,\n",
       "       14.25128716, 14.25128716, 28.82829752, 28.82829752, 28.82829752,\n",
       "       21.53979234, 21.53979234, 21.53979234, 14.25128716, 28.82829752,\n",
       "       25.18404493, 28.82829752, 21.53979234, 14.25128716, 28.82829752,\n",
       "       28.82829752, 21.53979234, 28.82829752, 21.53979234, 28.82829752,\n",
       "       21.53979234, 21.53979234, 21.53979234, 28.82829752, 14.25128716,\n",
       "       21.53979234, 21.53979234, 28.82829752, 28.82829752])"
      ]
     },
     "execution_count": 27,
     "metadata": {},
     "output_type": "execute_result"
    }
   ],
   "source": [
    "y_pred = regressor.predict(X_test) \n",
    "y_pred"
   ]
  },
  {
   "cell_type": "code",
   "execution_count": 28,
   "metadata": {},
   "outputs": [
    {
     "data": {
      "text/plain": [
       "array([21. , 18. , 27.9, 27. , 18.5, 15.5, 28. , 19.2, 22. , 19.2, 18. ,\n",
       "       13. , 16. , 16.5, 20.5, 17. , 18. , 22. , 18.1, 23. , 27. , 24.2,\n",
       "       46.6, 27. , 32.8, 23. , 25.5, 24. , 15. , 20.5, 35.7, 35. , 36. ,\n",
       "       30. , 15. , 15. , 23. , 29.9, 21.5, 15. , 19. , 13. , 17.5, 24. ,\n",
       "       19. , 30. , 13. , 19. , 34.1, 29. , 30. , 26. , 43.1, 20.6, 15. ,\n",
       "       23. , 15. , 15. , 17.6, 30. , 26. , 26. , 36.1, 26.6, 21. , 32.4,\n",
       "       19.4, 23.2, 14. , 28. , 29. , 15. , 13. , 18. , 38. , 29. , 19.4,\n",
       "       20.8, 25.4, 14. , 14. , 23.8, 32. , 38. , 44. , 29.8, 30. , 19. ,\n",
       "       36.1, 28.1, 25.8, 15. , 37. , 19.9, 34. , 18. , 23. ,  9. , 38.1,\n",
       "       22. , 19. , 26. , 19. , 16. , 26. , 32.2, 31.9, 26. , 16. , 25.4,\n",
       "       27. , 22. , 11. , 32.1, 13. , 20. , 14.5, 13. , 16. , 21. , 18. ,\n",
       "       18. , 37.2, 28.4, 36. , 33.5, 24. , 40.8, 16. , 31. , 18. , 20. ,\n",
       "       31. , 21. , 28. , 24.5, 25. , 19. , 44.6, 32. , 33. , 27. , 20. ,\n",
       "       24. , 32.9, 13. , 30. , 23.9, 22.3, 31. , 14. , 37. , 14. , 23.5,\n",
       "       18. , 14. , 20.2, 22.4, 26.4, 22. , 17.5, 18.5, 20. , 31. , 37. ,\n",
       "       17.5, 13. , 28. , 26. , 36. , 18.5, 17.5, 19. , 16.9, 25. , 36.4,\n",
       "       34.7, 16. , 18. , 19. , 29. , 20.2, 23. , 17.6, 24. , 17.5, 16.5,\n",
       "       17. , 29.5, 12. , 28.8, 25. , 25. , 23.6])"
      ]
     },
     "execution_count": 28,
     "metadata": {},
     "output_type": "execute_result"
    }
   ],
   "source": [
    "y_test"
   ]
  },
  {
   "cell_type": "code",
   "execution_count": 29,
   "metadata": {},
   "outputs": [
    {
     "data": {
      "image/png": "[encoded data removed]",
      "text/plain": [
       "<Figure size 432x288 with 1 Axes>"
      ]
     },
     "metadata": {
      "needs_background": "light"
     },
     "output_type": "display_data"
    }
   ],
   "source": [
    "#plot for the TRAIN\n",
    "plt.scatter(X_train, y_train, color='red')\n",
    " \n",
    "plt.plot(X_train, regressor.predict(X_train), color='blue')\n",
    " \n",
    "plt.title(\"cylinders va mpg (Training set)\")\n",
    " \n",
    "plt.xlabel(\"cylinders\")\n",
    "plt.ylabel(\"mpg\")\n",
    "plt.show()"
   ]
  },
  {
   "cell_type": "code",
   "execution_count": 30,
   "metadata": {},
   "outputs": [
    {
     "data": {
      "image/png": "[encoded data removed]",
      "text/plain": [
       "<Figure size 432x288 with 1 Axes>"
      ]
     },
     "metadata": {
      "needs_background": "light"
     },
     "output_type": "display_data"
    }
   ],
   "source": [
    "#plot for the TEST\n",
    " \n",
    "plt.scatter(X_test, y_test, color='red') \n",
    "plt.plot(X_train, regressor.predict(X_train), color='blue')\n",
    " \n",
    "plt.title(\"cylinders va mpg (Testing set)\")\n",
    " \n",
    "plt.xlabel(\"cylinders\") \n",
    "plt.ylabel(\"mpg\") \n",
    "plt.show() "
   ]
  },
  {
   "cell_type": "code",
   "execution_count": 31,
   "metadata": {},
   "outputs": [
    {
     "name": "stdout",
     "output_type": "stream",
     "text": [
      "intercept: 43.40530786979652\n",
      "slope: [-3.64425259]\n"
     ]
    }
   ],
   "source": [
    "print('intercept:', regressor.intercept_)\n",
    "print('slope:', regressor.coef_)"
   ]
  },
  {
   "cell_type": "code",
   "execution_count": 32,
   "metadata": {},
   "outputs": [
    {
     "name": "stdout",
     "output_type": "stream",
     "text": [
      "coefficient of determination: 0.5798356894244352\n"
     ]
    }
   ],
   "source": [
    "r_sq = regressor.score(X, y)\n",
    "print('coefficient of determination:', r_sq)"
   ]
  },
  {
   "cell_type": "markdown",
   "metadata": {},
   "source": [
    "### 2- displacement va mpg"
   ]
  },
  {
   "cell_type": "code",
   "execution_count": 33,
   "metadata": {},
   "outputs": [],
   "source": [
    "X = np.array(df['displacement']).reshape(len(df),1)\n",
    "y = np.array(df['mpg'])"
   ]
  },
  {
   "cell_type": "code",
   "execution_count": 34,
   "metadata": {},
   "outputs": [],
   "source": [
    "from sklearn.model_selection import train_test_split\n",
    "X_train, X_test, y_train, y_test = train_test_split(X,y,test_size=0.5,random_state=0)"
   ]
  },
  {
   "cell_type": "code",
   "execution_count": 35,
   "metadata": {},
   "outputs": [
    {
     "data": {
      "text/plain": [
       "LinearRegression()"
      ]
     },
     "execution_count": 35,
     "metadata": {},
     "output_type": "execute_result"
    }
   ],
   "source": [
    "regressor = LinearRegression()\n",
    "regressor.fit(X_train,y_train)"
   ]
  },
  {
   "cell_type": "code",
   "execution_count": 36,
   "metadata": {},
   "outputs": [
    {
     "data": {
      "text/plain": [
       "{'copy_X': True, 'fit_intercept': True, 'n_jobs': None, 'normalize': False}"
      ]
     },
     "execution_count": 36,
     "metadata": {},
     "output_type": "execute_result"
    }
   ],
   "source": [
    "regressor.get_params()"
   ]
  },
  {
   "cell_type": "code",
   "execution_count": 37,
   "metadata": {},
   "outputs": [
    {
     "data": {
      "text/plain": [
       "array([27.99009573, 21.37583241, 25.80674667, 29.33863485, 12.70665232,\n",
       "       15.40373057, 26.12782742, 18.67875416, 28.88912181, 20.99053551,\n",
       "       19.77042869, 10.13800637, 19.77042869, 13.28459766, 21.37583241,\n",
       "       16.30275665, 28.05431188, 28.05431188, 16.43118895, 29.59549945,\n",
       "       26.83420505, 26.44890816, 30.30187709, 29.59549945, 30.81560628,\n",
       "       26.83420505, 26.83420505, 28.18274418, 16.43118895, 20.99053551,\n",
       "       29.5312833 , 27.99009573, 29.08177026, 27.1552858 , 10.78016786,\n",
       "       13.34881381, 13.34881381, 29.5312833 , 28.05431188, 13.34881381,\n",
       "       27.99009573, 13.34881381, 15.40373057, 28.56804107, 20.92631937,\n",
       "       30.17344479, 16.11010821, 21.37583241, 30.30187709, 30.04501249,\n",
       "       29.5312833 , 29.59549945, 30.04501249, 20.99053551,  8.27573806,\n",
       "       28.11852803, 19.77042869, 11.2296809 , 16.43118895, 26.44890816,\n",
       "       29.59549945, 29.59549945, 29.98079634, 26.12782742, 23.04545227,\n",
       "       28.88912181, 15.40373057, 25.80674667, 16.30275665, 30.04501249,\n",
       "       30.04501249, 16.30275665, 13.34881381, 19.77042869, 18.9998349 ,\n",
       "       31.45776776, 20.92631937, 22.98123613, 24.07291065, 10.13800637,\n",
       "       13.9909753 , 26.12782742, 30.49452553, 29.08177026, 29.59549945,\n",
       "       27.21950194, 29.59549945, 31.32933547, 29.5312833 , 26.7699889 ,\n",
       "       25.80674667, 15.40373057, 30.36609323, 19.1282672 , 28.63225722,\n",
       "       20.92631937, 28.11852803, 16.30275665, 30.10922864, 19.77042869,\n",
       "       25.80674667, 29.98079634, 21.37583241, 13.28459766, 29.59549945,\n",
       "       28.88912181, 30.10922864, 25.80674667, 10.13800637, 25.03615289,\n",
       "       29.59549945, 26.44890816, 13.34881381, 29.5312833 , 16.43118895,\n",
       "       20.92631937, 13.28459766, 16.43118895, 10.13800637, 20.99053551,\n",
       "       23.04545227, 31.32933547, 30.30187709, 26.12782742, 28.95333796,\n",
       "       26.12782742, 28.95333796, 30.36609323, 19.77042869, 28.18274418,\n",
       "       20.92631937, 23.10966842, 30.75139013, 25.87096282, 28.95333796,\n",
       "       26.12782742, 26.83420505, 20.92631937, 29.98079634, 31.26511932,\n",
       "       29.98079634, 26.12782742, 27.47636654, 30.04501249, 28.18274418,\n",
       "       13.34881381, 28.69647337, 19.1282672 , 26.83420505, 30.94403857,\n",
       "       13.28459766, 29.98079634, 15.40373057, 24.71507214, 20.92631937,\n",
       "       15.40373057, 16.43118895, 20.99053551, 26.83420505, 20.92631937,\n",
       "       16.2385405 , 19.77042869, 28.50382492, 31.26511932, 28.18274418,\n",
       "       16.2385405 , 15.40373057, 29.59549945, 28.37539262, 29.5312833 ,\n",
       "       19.77042869, 19.2566995 , 19.77042869, 13.34881381, 29.56339137,\n",
       "       28.05431188, 29.08177026, 21.37583241, 15.40373057, 28.11852803,\n",
       "       29.59549945, 20.92631937, 26.12782742, 21.37583241, 28.11852803,\n",
       "       19.77042869, 25.03615289, 25.35723363, 29.5312833 , 11.2296809 ,\n",
       "       24.71507214, 24.20134295, 28.56804107, 26.83420505])"
      ]
     },
     "execution_count": 37,
     "metadata": {},
     "output_type": "execute_result"
    }
   ],
   "source": [
    "y_pred = regressor.predict(X_test) \n",
    "y_pred"
   ]
  },
  {
   "cell_type": "code",
   "execution_count": 38,
   "metadata": {},
   "outputs": [
    {
     "data": {
      "text/plain": [
       "array([21. , 18. , 27.9, 27. , 18.5, 15.5, 28. , 19.2, 22. , 19.2, 18. ,\n",
       "       13. , 16. , 16.5, 20.5, 17. , 18. , 22. , 18.1, 23. , 27. , 24.2,\n",
       "       46.6, 27. , 32.8, 23. , 25.5, 24. , 15. , 20.5, 35.7, 35. , 36. ,\n",
       "       30. , 15. , 15. , 23. , 29.9, 21.5, 15. , 19. , 13. , 17.5, 24. ,\n",
       "       19. , 30. , 13. , 19. , 34.1, 29. , 30. , 26. , 43.1, 20.6, 15. ,\n",
       "       23. , 15. , 15. , 17.6, 30. , 26. , 26. , 36.1, 26.6, 21. , 32.4,\n",
       "       19.4, 23.2, 14. , 28. , 29. , 15. , 13. , 18. , 38. , 29. , 19.4,\n",
       "       20.8, 25.4, 14. , 14. , 23.8, 32. , 38. , 44. , 29.8, 30. , 19. ,\n",
       "       36.1, 28.1, 25.8, 15. , 37. , 19.9, 34. , 18. , 23. ,  9. , 38.1,\n",
       "       22. , 19. , 26. , 19. , 16. , 26. , 32.2, 31.9, 26. , 16. , 25.4,\n",
       "       27. , 22. , 11. , 32.1, 13. , 20. , 14.5, 13. , 16. , 21. , 18. ,\n",
       "       18. , 37.2, 28.4, 36. , 33.5, 24. , 40.8, 16. , 31. , 18. , 20. ,\n",
       "       31. , 21. , 28. , 24.5, 25. , 19. , 44.6, 32. , 33. , 27. , 20. ,\n",
       "       24. , 32.9, 13. , 30. , 23.9, 22.3, 31. , 14. , 37. , 14. , 23.5,\n",
       "       18. , 14. , 20.2, 22.4, 26.4, 22. , 17.5, 18.5, 20. , 31. , 37. ,\n",
       "       17.5, 13. , 28. , 26. , 36. , 18.5, 17.5, 19. , 16.9, 25. , 36.4,\n",
       "       34.7, 16. , 18. , 19. , 29. , 20.2, 23. , 17.6, 24. , 17.5, 16.5,\n",
       "       17. , 29.5, 12. , 28.8, 25. , 25. , 23.6])"
      ]
     },
     "execution_count": 38,
     "metadata": {},
     "output_type": "execute_result"
    }
   ],
   "source": [
    "y_test"
   ]
  },
  {
   "cell_type": "code",
   "execution_count": 39,
   "metadata": {},
   "outputs": [
    {
     "data": {
      "image/png": "[encoded data removed]",
      "text/plain": [
       "<Figure size 432x288 with 1 Axes>"
      ]
     },
     "metadata": {
      "needs_background": "light"
     },
     "output_type": "display_data"
    }
   ],
   "source": [
    "#plot for the TRAIN\n",
    "plt.scatter(X_train, y_train, color='red')\n",
    " \n",
    "plt.plot(X_train, regressor.predict(X_train), color='blue')\n",
    " \n",
    "plt.title(\"displacement va mpg (Training set)\")\n",
    " \n",
    "plt.xlabel(\"displacement\")\n",
    "plt.ylabel(\"mpg\")\n",
    "plt.show()"
   ]
  },
  {
   "cell_type": "code",
   "execution_count": 40,
   "metadata": {},
   "outputs": [
    {
     "data": {
      "image/png": "[encoded data removed]",
      "text/plain": [
       "<Figure size 432x288 with 1 Axes>"
      ]
     },
     "metadata": {
      "needs_background": "light"
     },
     "output_type": "display_data"
    }
   ],
   "source": [
    "#plot for the TEST\n",
    " \n",
    "plt.scatter(X_test, y_test, color='red') \n",
    "plt.plot(X_train, regressor.predict(X_train), color='blue') \n",
    " \n",
    "plt.title(\"displacement va mpg (Testing set)\")\n",
    " \n",
    "plt.xlabel(\"displacement\") \n",
    "plt.ylabel(\"mpg\") \n",
    "plt.show() "
   ]
  },
  {
   "cell_type": "code",
   "execution_count": 41,
   "metadata": {},
   "outputs": [
    {
     "name": "stdout",
     "output_type": "stream",
     "text": [
      "intercept: 35.8244658799606\n",
      "slope: [-0.06421615]\n"
     ]
    }
   ],
   "source": [
    "print('intercept:', regressor.intercept_)\n",
    "print('slope:', regressor.coef_)"
   ]
  },
  {
   "cell_type": "code",
   "execution_count": 42,
   "metadata": {},
   "outputs": [
    {
     "name": "stdout",
     "output_type": "stream",
     "text": [
      "coefficient of determination: 0.6384629493430867\n"
     ]
    }
   ],
   "source": [
    "r_sq = regressor.score(X, y)\n",
    "print('coefficient of determination:', r_sq)"
   ]
  },
  {
   "cell_type": "markdown",
   "metadata": {},
   "source": [
    "### 3- horsepower va mpg"
   ]
  },
  {
   "cell_type": "code",
   "execution_count": 43,
   "metadata": {},
   "outputs": [],
   "source": [
    "X = np.array(df['horsepower']).reshape(len(df),1)\n",
    "y = np.array(df['mpg'])"
   ]
  },
  {
   "cell_type": "code",
   "execution_count": 44,
   "metadata": {},
   "outputs": [],
   "source": [
    "X_train, X_test, y_train, y_test = train_test_split(X,y,test_size=0.5,random_state=0)"
   ]
  },
  {
   "cell_type": "code",
   "execution_count": 45,
   "metadata": {},
   "outputs": [
    {
     "data": {
      "text/plain": [
       "LinearRegression()"
      ]
     },
     "execution_count": 45,
     "metadata": {},
     "output_type": "execute_result"
    }
   ],
   "source": [
    "regressor = LinearRegression()\n",
    "regressor.fit(X_train,y_train)"
   ]
  },
  {
   "cell_type": "code",
   "execution_count": 46,
   "metadata": {},
   "outputs": [
    {
     "data": {
      "text/plain": [
       "{'copy_X': True, 'fit_intercept': True, 'n_jobs': None, 'normalize': False}"
      ]
     },
     "execution_count": 46,
     "metadata": {},
     "output_type": "execute_result"
    }
   ],
   "source": [
    "regressor.get_params()"
   ]
  },
  {
   "cell_type": "code",
   "execution_count": 47,
   "metadata": {},
   "outputs": [
    {
     "data": {
      "text/plain": [
       "array([26.65122754, 23.20591889, 23.20591889, 27.19522365, 15.04597734,\n",
       "       15.95263751, 25.9258994 , 19.5792782 , 25.20057127, 23.20591889,\n",
       "       23.20591889, 10.51267647, 24.11257906, 17.22196175, 24.11257906,\n",
       "       15.04597734, 21.93659465, 24.47524313, 17.04062971, 32.45385265,\n",
       "       26.65122754, 20.48593837, 30.45920027, 26.28856347, 32.81651671,\n",
       "       28.10188382, 26.10723144, 24.65657516, 18.67261802, 23.20591889,\n",
       "       27.73921975, 26.28856347, 28.82721196, 27.01389161,  7.79269596,\n",
       "       12.32599682, 19.5792782 , 30.45920027, 22.29925871, 15.95263751,\n",
       "       26.83255958, 14.13931716, 16.85929768, 25.01923923, 24.11257906,\n",
       "       28.46454789, 18.67261802, 25.01923923, 30.45920027, 29.55254009,\n",
       "       29.91520416, 33.90450892, 33.54184485, 23.20591889,  6.34203968,\n",
       "       24.65657516, 29.18987602, 11.41933665, 18.85395006, 30.0965362 ,\n",
       "       28.10188382, 28.64587992, 31.36586044, 27.01389161, 25.9258994 ,\n",
       "       28.64587992, 16.85929768, 23.20591889, 15.04597734, 28.64587992,\n",
       "       29.55254009, 15.04597734, 12.32599682, 26.28856347, 26.83255958,\n",
       "       33.36051282, 25.9258994 , 26.83255958, 28.28321585, 10.51267647,\n",
       "       13.23265699, 26.83255958, 31.1845284 , 30.82186433, 32.81651671,\n",
       "       25.9258994 , 30.0965362 , 24.65657516, 30.27786823, 27.73921975,\n",
       "       25.56323533, 15.04597734, 30.45920027, 22.29925871, 26.28856347,\n",
       "       24.11257906, 26.28856347,  7.24869985, 31.36586044, 23.20591889,\n",
       "       22.66192278, 29.55254009, 24.11257906, 15.22730937, 33.90450892,\n",
       "       28.64587992, 29.37120806, 25.56323533, 11.41933665, 21.21126651,\n",
       "       26.28856347, 24.65657516,  9.6060163 , 29.55254009, 18.85395006,\n",
       "       24.11257906, 14.68331327, 16.85929768,  9.6060163 , 22.29925871,\n",
       "       24.65657516, 25.9258994 , 30.45920027, 25.9258994 , 28.64587992,\n",
       "       25.9258994 , 25.9258994 , 30.45920027, 23.20591889, 27.37655568,\n",
       "       24.11257906, 25.01923923, 30.0965362 , 22.84325482, 26.65122754,\n",
       "       26.28856347, 25.56323533, 24.11257906, 30.0965362 , 30.45920027,\n",
       "       32.63518468, 25.9258994 , 23.74991499, 28.64587992, 24.11257906,\n",
       "       15.04597734, 27.73921975, 25.9258994 , 26.28856347, 32.81651671,\n",
       "       14.50198123, 29.91520416, 15.04597734, 22.29925871, 24.11257906,\n",
       "       15.04597734, 17.04062971, 22.29925871, 26.28856347, 21.93659465,\n",
       "       15.95263751, 22.29925871, 25.74456737, 30.45920027, 25.56323533,\n",
       "       16.85929768, 15.04597734, 25.56323533, 28.64587992, 29.55254009,\n",
       "       24.47524313, 25.01923923, 26.28856347, 14.13931716, 27.73921975,\n",
       "       30.0965362 , 30.82186433, 23.20591889, 15.04597734, 26.28856347,\n",
       "       28.64587992, 25.9258994 , 25.29123728, 26.83255958, 24.65657516,\n",
       "       22.29925871, 20.48593837, 19.5792782 , 29.91520416,  9.6060163 ,\n",
       "       21.39259854, 22.29925871, 25.01923923, 25.29123728])"
      ]
     },
     "execution_count": 47,
     "metadata": {},
     "output_type": "execute_result"
    }
   ],
   "source": [
    "y_pred = regressor.predict(X_test) \n",
    "y_pred"
   ]
  },
  {
   "cell_type": "code",
   "execution_count": 48,
   "metadata": {},
   "outputs": [
    {
     "data": {
      "text/plain": [
       "array([21. , 18. , 27.9, 27. , 18.5, 15.5, 28. , 19.2, 22. , 19.2, 18. ,\n",
       "       13. , 16. , 16.5, 20.5, 17. , 18. , 22. , 18.1, 23. , 27. , 24.2,\n",
       "       46.6, 27. , 32.8, 23. , 25.5, 24. , 15. , 20.5, 35.7, 35. , 36. ,\n",
       "       30. , 15. , 15. , 23. , 29.9, 21.5, 15. , 19. , 13. , 17.5, 24. ,\n",
       "       19. , 30. , 13. , 19. , 34.1, 29. , 30. , 26. , 43.1, 20.6, 15. ,\n",
       "       23. , 15. , 15. , 17.6, 30. , 26. , 26. , 36.1, 26.6, 21. , 32.4,\n",
       "       19.4, 23.2, 14. , 28. , 29. , 15. , 13. , 18. , 38. , 29. , 19.4,\n",
       "       20.8, 25.4, 14. , 14. , 23.8, 32. , 38. , 44. , 29.8, 30. , 19. ,\n",
       "       36.1, 28.1, 25.8, 15. , 37. , 19.9, 34. , 18. , 23. ,  9. , 38.1,\n",
       "       22. , 19. , 26. , 19. , 16. , 26. , 32.2, 31.9, 26. , 16. , 25.4,\n",
       "       27. , 22. , 11. , 32.1, 13. , 20. , 14.5, 13. , 16. , 21. , 18. ,\n",
       "       18. , 37.2, 28.4, 36. , 33.5, 24. , 40.8, 16. , 31. , 18. , 20. ,\n",
       "       31. , 21. , 28. , 24.5, 25. , 19. , 44.6, 32. , 33. , 27. , 20. ,\n",
       "       24. , 32.9, 13. , 30. , 23.9, 22.3, 31. , 14. , 37. , 14. , 23.5,\n",
       "       18. , 14. , 20.2, 22.4, 26.4, 22. , 17.5, 18.5, 20. , 31. , 37. ,\n",
       "       17.5, 13. , 28. , 26. , 36. , 18.5, 17.5, 19. , 16.9, 25. , 36.4,\n",
       "       34.7, 16. , 18. , 19. , 29. , 20.2, 23. , 17.6, 24. , 17.5, 16.5,\n",
       "       17. , 29.5, 12. , 28.8, 25. , 25. , 23.6])"
      ]
     },
     "execution_count": 48,
     "metadata": {},
     "output_type": "execute_result"
    }
   ],
   "source": [
    "y_test"
   ]
  },
  {
   "cell_type": "code",
   "execution_count": 52,
   "metadata": {},
   "outputs": [
    {
     "data": {
      "image/png": "[encoded data removed]",
      "text/plain": [
       "<Figure size 432x288 with 1 Axes>"
      ]
     },
     "metadata": {
      "needs_background": "light"
     },
     "output_type": "display_data"
    }
   ],
   "source": [
    "#plot for the TRAIN\n",
    "plt.scatter(X_train, y_train, color='red')\n",
    " \n",
    "plt.plot(X_train, regressor.predict(X_train), color='blue')\n",
    " \n",
    "plt.title(\"horsepower va mpg (Training set)\")\n",
    " \n",
    "plt.xlabel(\"horsepower\")\n",
    "plt.ylabel(\"mpg\")\n",
    "plt.show()"
   ]
  },
  {
   "cell_type": "code",
   "execution_count": 51,
   "metadata": {},
   "outputs": [
    {
     "data": {
      "image/png": "[encoded data removed]",
      "text/plain": [
       "<Figure size 432x288 with 1 Axes>"
      ]
     },
     "metadata": {
      "needs_background": "light"
     },
     "output_type": "display_data"
    }
   ],
   "source": [
    "#plot for the TEST\n",
    " \n",
    "plt.scatter(X_test, y_test, color='red') \n",
    "plt.plot(X_train, regressor.predict(X_train), color='blue') \n",
    "plt.title(\"horsepower va mpg (Testing set)\")\n",
    " \n",
    "plt.xlabel(\"horsepower\") \n",
    "plt.ylabel(\"mpg\") \n",
    "plt.show() "
   ]
  },
  {
   "cell_type": "code",
   "execution_count": 53,
   "metadata": {},
   "outputs": [
    {
     "name": "stdout",
     "output_type": "stream",
     "text": [
      "intercept: 42.24578250703785\n",
      "slope: [-0.18133203]\n"
     ]
    }
   ],
   "source": [
    "print('intercept:', regressor.intercept_)\n",
    "print('slope:', regressor.coef_)"
   ]
  },
  {
   "cell_type": "code",
   "execution_count": 54,
   "metadata": {},
   "outputs": [
    {
     "name": "stdout",
     "output_type": "stream",
     "text": [
      "coefficient of determination: 0.6106315517541184\n"
     ]
    }
   ],
   "source": [
    "r_sq = regressor.score(X, y)\n",
    "print('coefficient of determination:', r_sq)"
   ]
  },
  {
   "cell_type": "markdown",
   "metadata": {},
   "source": [
    "### 4-weight va mpg "
   ]
  },
  {
   "cell_type": "code",
   "execution_count": 56,
   "metadata": {},
   "outputs": [],
   "source": [
    "X = np.array(df['weight']).reshape(len(df),1)\n",
    "y = np.array(df['mpg'])"
   ]
  },
  {
   "cell_type": "code",
   "execution_count": 57,
   "metadata": {},
   "outputs": [],
   "source": [
    "X_train, X_test, y_train, y_test = train_test_split(X,y,test_size=0.5,random_state=0)"
   ]
  },
  {
   "cell_type": "code",
   "execution_count": 58,
   "metadata": {},
   "outputs": [
    {
     "data": {
      "text/plain": [
       "LinearRegression()"
      ]
     },
     "execution_count": 58,
     "metadata": {},
     "output_type": "execute_result"
    }
   ],
   "source": [
    "regressor = LinearRegression()\n",
    "regressor.fit(X_train,y_train)"
   ]
  },
  {
   "cell_type": "code",
   "execution_count": 59,
   "metadata": {},
   "outputs": [
    {
     "data": {
      "text/plain": [
       "{'copy_X': True, 'fit_intercept': True, 'n_jobs': None, 'normalize': False}"
      ]
     },
     "execution_count": 59,
     "metadata": {},
     "output_type": "execute_result"
    }
   ],
   "source": [
    "regressor.get_params()"
   ]
  },
  {
   "cell_type": "code",
   "execution_count": 60,
   "metadata": {},
   "outputs": [
    {
     "data": {
      "text/plain": [
       "array([29.32248966, 18.47645937, 24.83393783, 29.5101643 , 15.91939238,\n",
       "       14.35543704, 25.78795059, 18.53901758, 28.12606383, 19.08640195,\n",
       "       19.68070498,  6.53566034, 17.16273688, 15.80209573, 19.90747851,\n",
       "       18.01509254, 23.79390753, 23.70007021, 21.66692826, 29.10353591,\n",
       "       24.9121356 , 23.81736686, 30.22958376, 30.30778153, 31.20705585,\n",
       "       26.46045139, 25.18582778, 26.82798089, 13.14337165, 19.94657739,\n",
       "       31.75444022, 27.17987084, 31.24615473, 28.07914516, 16.62317229,\n",
       "       17.85087723, 16.23218345, 28.11824405, 26.39789317, 12.00950403,\n",
       "       28.66562842, 11.52467788, 14.82462365, 28.18080226, 26.13202076,\n",
       "       30.58147371, 14.68386766, 21.20556144, 31.28525361, 31.58240513,\n",
       "       29.87769381, 32.38002235, 31.20705585, 20.29846734, 12.78366193,\n",
       "       27.13295218, 22.03445777, 18.8674482 , 17.60064438, 21.31503831,\n",
       "       28.74382619, 29.01751837, 32.65371454, 26.12420099, 26.02254389,\n",
       "       28.35283735, 17.52244661, 25.26402555, 18.01509254, 30.11228711,\n",
       "       31.58240513, 16.29474167, 13.30758696, 23.10576718, 23.15268584,\n",
       "       32.1297895 , 21.62782938, 22.72259812, 19.12550083, 12.43959175,\n",
       "       18.50773847, 24.40385011, 31.06629987, 30.11228711, 30.07318823,\n",
       "       25.52989796, 31.20705585, 28.50923288, 32.65371454, 21.47143385,\n",
       "       26.24149764, 17.19401599, 31.28525361, 20.41576399, 28.0009474 ,\n",
       "       23.70007021, 23.60623289,  9.72612923, 31.33999205, 20.50960131,\n",
       "       23.81736686, 31.44164915, 18.34352316, 12.83058059, 31.48074803,\n",
       "       29.01751837, 31.67624245, 26.51518982, 10.22659494, 24.05196016,\n",
       "       30.07318823, 24.71664118, 18.07765076, 30.15138599, 21.94844023,\n",
       "       23.94248329, 13.76895379, 13.15119143, 13.72985491, 22.9650112 ,\n",
       "       25.03725203, 30.12010689, 30.94118344, 25.8505088 , 29.48670497,\n",
       "       26.74196335, 27.72725521, 30.22958376, 16.25564278, 25.45951997,\n",
       "       21.0178868 , 22.47236527, 31.0897592 , 27.39882459, 27.46138281,\n",
       "       25.30312443, 26.61684692, 24.04414038, 32.2627257 , 32.37220258,\n",
       "       32.69281342, 23.66097133, 22.09701598, 30.24522331, 26.28059652,\n",
       "        9.98418186, 29.87769381, 19.98567627, 24.13015793, 33.83450082,\n",
       "       14.24596017, 30.89426478, 14.69950722, 25.42042108, 24.91995538,\n",
       "       13.5969187 , 18.81270977, 20.02477516, 24.28655346, 24.56024565,\n",
       "       16.38857899, 18.22622651, 26.53864915, 32.86484851, 27.69597611,\n",
       "       13.76895379, 17.36605108, 28.83766351, 29.16609413, 30.11228711,\n",
       "       19.16459972, 21.76076559, 20.90840992, 12.63508617, 30.10446733,\n",
       "       23.66097133, 29.40850721, 19.83710052, 19.86055985, 21.15864278,\n",
       "       29.75257738, 21.19774166, 22.99629031, 19.63378632, 27.26588839,\n",
       "       19.2036986 , 16.85776559, 22.17521375, 30.03408934,  7.98231903,\n",
       "       26.43699206, 23.70007021, 29.30685011, 24.01286128])"
      ]
     },
     "execution_count": 60,
     "metadata": {},
     "output_type": "execute_result"
    }
   ],
   "source": [
    "y_pred = regressor.predict(X_test) \n",
    "y_pred"
   ]
  },
  {
   "cell_type": "code",
   "execution_count": 61,
   "metadata": {},
   "outputs": [
    {
     "data": {
      "text/plain": [
       "array([21. , 18. , 27.9, 27. , 18.5, 15.5, 28. , 19.2, 22. , 19.2, 18. ,\n",
       "       13. , 16. , 16.5, 20.5, 17. , 18. , 22. , 18.1, 23. , 27. , 24.2,\n",
       "       46.6, 27. , 32.8, 23. , 25.5, 24. , 15. , 20.5, 35.7, 35. , 36. ,\n",
       "       30. , 15. , 15. , 23. , 29.9, 21.5, 15. , 19. , 13. , 17.5, 24. ,\n",
       "       19. , 30. , 13. , 19. , 34.1, 29. , 30. , 26. , 43.1, 20.6, 15. ,\n",
       "       23. , 15. , 15. , 17.6, 30. , 26. , 26. , 36.1, 26.6, 21. , 32.4,\n",
       "       19.4, 23.2, 14. , 28. , 29. , 15. , 13. , 18. , 38. , 29. , 19.4,\n",
       "       20.8, 25.4, 14. , 14. , 23.8, 32. , 38. , 44. , 29.8, 30. , 19. ,\n",
       "       36.1, 28.1, 25.8, 15. , 37. , 19.9, 34. , 18. , 23. ,  9. , 38.1,\n",
       "       22. , 19. , 26. , 19. , 16. , 26. , 32.2, 31.9, 26. , 16. , 25.4,\n",
       "       27. , 22. , 11. , 32.1, 13. , 20. , 14.5, 13. , 16. , 21. , 18. ,\n",
       "       18. , 37.2, 28.4, 36. , 33.5, 24. , 40.8, 16. , 31. , 18. , 20. ,\n",
       "       31. , 21. , 28. , 24.5, 25. , 19. , 44.6, 32. , 33. , 27. , 20. ,\n",
       "       24. , 32.9, 13. , 30. , 23.9, 22.3, 31. , 14. , 37. , 14. , 23.5,\n",
       "       18. , 14. , 20.2, 22.4, 26.4, 22. , 17.5, 18.5, 20. , 31. , 37. ,\n",
       "       17.5, 13. , 28. , 26. , 36. , 18.5, 17.5, 19. , 16.9, 25. , 36.4,\n",
       "       34.7, 16. , 18. , 19. , 29. , 20.2, 23. , 17.6, 24. , 17.5, 16.5,\n",
       "       17. , 29.5, 12. , 28.8, 25. , 25. , 23.6])"
      ]
     },
     "execution_count": 61,
     "metadata": {},
     "output_type": "execute_result"
    }
   ],
   "source": [
    "y_test"
   ]
  },
  {
   "cell_type": "code",
   "execution_count": 63,
   "metadata": {},
   "outputs": [
    {
     "data": {
      "image/png": "[encoded data removed]",
      "text/plain": [
       "<Figure size 432x288 with 1 Axes>"
      ]
     },
     "metadata": {
      "needs_background": "light"
     },
     "output_type": "display_data"
    }
   ],
   "source": [
    "#plot for the TRAIN\n",
    "plt.scatter(X_train, y_train, color='red')\n",
    " \n",
    "plt.plot(X_train, regressor.predict(X_train), color='blue')\n",
    " \n",
    "plt.title(\"weight va mpg (Training set)\")\n",
    " \n",
    "plt.xlabel(\"weight\")\n",
    "plt.ylabel(\"mpg\")\n",
    "plt.show()"
   ]
  },
  {
   "cell_type": "code",
   "execution_count": 65,
   "metadata": {},
   "outputs": [
    {
     "data": {
      "image/png": "[encoded data removed]",
      "text/plain": [
       "<Figure size 432x288 with 1 Axes>"
      ]
     },
     "metadata": {
      "needs_background": "light"
     },
     "output_type": "display_data"
    }
   ],
   "source": [
    "#plot for the TEST\n",
    " \n",
    "plt.scatter(X_test, y_test, color='red') \n",
    "plt.plot(X_train, regressor.predict(X_train), color='blue') \n",
    "plt.title(\"weight va mpg (Testing set)\")\n",
    " \n",
    "plt.xlabel(\"weight\") \n",
    "plt.ylabel(\"mpg\") \n",
    "plt.show() "
   ]
  },
  {
   "cell_type": "code",
   "execution_count": 66,
   "metadata": {},
   "outputs": [
    {
     "name": "stdout",
     "output_type": "stream",
     "text": [
      "intercept: 46.72931261222293\n",
      "slope: [-0.00781978]\n"
     ]
    }
   ],
   "source": [
    "print('intercept:', regressor.intercept_)\n",
    "print('slope:', regressor.coef_)"
   ]
  },
  {
   "cell_type": "code",
   "execution_count": 67,
   "metadata": {},
   "outputs": [
    {
     "name": "stdout",
     "output_type": "stream",
     "text": [
      "coefficient of determination: 0.67837442507766\n"
     ]
    }
   ],
   "source": [
    "r_sq = regressor.score(X, y)\n",
    "print('coefficient of determination:', r_sq)"
   ]
  },
  {
   "cell_type": "markdown",
   "metadata": {},
   "source": [
    "## so we can choose horsepower , displacement and weight to be the best 3 features for expressing the mpg"
   ]
  },
  {
   "cell_type": "markdown",
   "metadata": {},
   "source": [
    "## Implementation of linear regression"
   ]
  },
  {
   "cell_type": "code",
   "execution_count": 69,
   "metadata": {},
   "outputs": [],
   "source": [
    "# Normalize the features\n",
    "x = df[['displacement','horsepower','weight']]\n",
    "y = df.mpg\n",
    "x_norm = (x - x.mean()) / x.std()\n",
    "y_norm = (y - y.mean()) / y.std()"
   ]
  },
  {
   "cell_type": "code",
   "execution_count": 70,
   "metadata": {},
   "outputs": [],
   "source": [
    "x_norm=np.array(x_norm)\n",
    "x_norm=np.c_[np.ones(len(x_norm)),x_norm]\n",
    "y_norm=np.array(y_norm).reshape(len(y_norm),1)\n",
    "thetas=np.zeros(x_norm.shape[1]).reshape(x_norm.shape[1],1)"
   ]
  },
  {
   "cell_type": "code",
   "execution_count": 71,
   "metadata": {},
   "outputs": [],
   "source": [
    "def lossFunction(y_predict,y):\n",
    "    m=len(y)\n",
    "    return (1/(2*m))*sum((y_predict-y)**2)\n",
    "\n",
    "def batchGD(x,y,b,alpha,max_iters):\n",
    "    m=len(y)\n",
    "    cost_list=[]\n",
    "    gradients=[0]*len(b)\n",
    "    for _ in range(max_iters):\n",
    "        y_predict=np.dot(x,b)\n",
    "        cost=lossFunction(y_predict,y)\n",
    "        cost_list.append(cost)\n",
    "        for i in range(len(b)):\n",
    "            gradients[i]=(1/m)*sum((y_predict-y)*x[:,i].reshape(len(x),1))\n",
    "            b[i]=b[i]-alpha*gradients[i]\n",
    "    return b,cost_list"
   ]
  },
  {
   "cell_type": "code",
   "execution_count": 72,
   "metadata": {},
   "outputs": [],
   "source": [
    "class LinearRegression:\n",
    "    \n",
    "    def __init__(self):\n",
    "        self.theta=[]\n",
    "        self.cost=[]\n",
    "        \n",
    "    def train(self,x,y,b,alpha,max_iters):\n",
    "        self.theta,self.cost=batchGD(x,y,b,alpha,max_iters)\n",
    "    \n",
    "    def test(self,x):\n",
    "        return x.dot(self.theta)"
   ]
  },
  {
   "cell_type": "code",
   "execution_count": 73,
   "metadata": {},
   "outputs": [
    {
     "data": {
      "text/plain": [
       "array([[-1.78897953e-16],\n",
       "       [-8.87841820e-02],\n",
       "       [-2.34750732e-01],\n",
       "       [-5.35309601e-01]])"
      ]
     },
     "execution_count": 73,
     "metadata": {},
     "output_type": "execute_result"
    }
   ],
   "source": [
    "model = LinearRegression()\n",
    "model.train(x_norm, y_norm, thetas, 0.1, 1000)\n",
    "model.theta"
   ]
  },
  {
   "cell_type": "code",
   "execution_count": 74,
   "metadata": {},
   "outputs": [
    {
     "name": "stdout",
     "output_type": "stream",
     "text": [
      "[[18.55884522]\n",
      " [15.42838013]\n",
      " [17.74770398]\n",
      " [17.85981417]\n",
      " [18.33149272]\n",
      " [ 9.851554  ]\n",
      " [13.01751244]\n",
      " [15.58322384]\n",
      " [16.18849913]\n",
      " [15.54759542]\n",
      " [27.47043463]\n",
      " [24.56673398]\n",
      " [24.74838622]\n",
      " [26.32607074]\n",
      " [29.17302279]\n",
      " [32.91428989]\n",
      " [26.41557788]\n",
      " [27.48990615]\n",
      " [27.51776128]\n",
      " [27.13915729]\n",
      " [25.757677  ]\n",
      " [ 9.02409187]\n",
      " [29.17302279]\n",
      " [28.09456167]\n",
      " [28.19339507]\n",
      " [29.2918388 ]\n",
      " [25.0610642 ]\n",
      " [20.79896706]\n",
      " [21.4469993 ]\n",
      " [22.22832647]\n",
      " [21.77761886]\n",
      " [12.83777189]\n",
      " [10.67278419]\n",
      " [13.75274266]\n",
      " [14.4341353 ]\n",
      " [ 8.05646283]\n",
      " [ 9.52605837]\n",
      " [ 7.27888657]\n",
      " [22.69594461]\n",
      " [28.34025937]\n",
      " [21.68296555]\n",
      " [23.04667753]\n",
      " [28.65550027]\n",
      " [28.96882932]\n",
      " [30.54760886]\n",
      " [30.20751952]\n",
      " [32.38332501]\n",
      " [32.96442498]\n",
      " [32.16590968]\n",
      " [31.0618709 ]\n",
      " [27.94236714]\n",
      " [29.62015373]\n",
      " [30.38016111]\n",
      " [27.37160123]\n",
      " [28.62537692]\n",
      " [12.51143558]\n",
      " [11.06940833]\n",
      " [14.23833351]\n",
      " [13.87825663]\n",
      " [16.65990067]\n",
      " [11.90489162]\n",
      " [11.86676561]\n",
      " [10.07643254]\n",
      " [27.87174699]\n",
      " [15.55537777]\n",
      " [15.5766334 ]\n",
      " [14.08912069]\n",
      " [14.52952591]\n",
      " [23.68360115]\n",
      " [27.73959316]\n",
      " [24.80494602]\n",
      " [29.90621434]\n",
      " [27.77690252]\n",
      " [28.16451716]\n",
      " [26.64152683]\n",
      " [29.42590648]\n",
      " [29.32363954]\n",
      " [12.84686937]\n",
      " [16.65990067]\n",
      " [15.02360216]\n",
      " [15.51574448]\n",
      " [16.0356935 ]\n",
      " [ 6.78399269]\n",
      " [12.01814272]\n",
      " [12.43437421]\n",
      " [13.72623653]\n",
      " [14.17828485]\n",
      " [22.3955047 ]\n",
      " [21.70304779]\n",
      " [23.49967047]\n",
      " [23.63910344]\n",
      " [24.21027432]\n",
      " [32.33692565]\n",
      " [ 9.34218497]\n",
      " [ 8.88421201]\n",
      " [10.26523123]\n",
      " [10.57459477]\n",
      " [24.28287761]\n",
      " [28.42495955]\n",
      " [28.37540328]\n",
      " [27.52376524]\n",
      " [29.28268245]\n",
      " [28.25746434]\n",
      " [26.03146113]\n",
      " [28.38068665]\n",
      " [14.55166965]\n",
      " [32.79321806]\n",
      " [29.60032488]\n",
      " [26.62444264]\n",
      " [24.00993746]\n",
      " [17.93346465]\n",
      " [25.16184234]\n",
      " [23.53542685]\n",
      " [14.76676122]\n",
      " [23.21620372]\n",
      " [24.42272796]\n",
      " [23.72057505]\n",
      " [21.41185539]\n",
      " [31.33160116]\n",
      " [27.81863728]\n",
      " [32.06702981]\n",
      " [27.50606149]\n",
      " [19.1777068 ]\n",
      " [19.33217033]\n",
      " [19.92538986]\n",
      " [14.85726616]\n",
      " [11.18491328]\n",
      " [12.62171364]\n",
      " [12.36204852]\n",
      " [13.72287387]\n",
      " [28.98833274]\n",
      " [31.26633389]\n",
      " [28.85767123]\n",
      " [33.67080052]\n",
      " [31.36066945]\n",
      " [29.94623627]\n",
      " [30.03158576]\n",
      " [29.15851572]\n",
      " [26.72687633]\n",
      " [27.51733288]\n",
      " [31.08057322]\n",
      " [22.21570823]\n",
      " [20.52525497]\n",
      " [22.43668331]\n",
      " [23.81231637]\n",
      " [ 9.91766194]\n",
      " [12.75430966]\n",
      " [12.41587073]\n",
      " [11.49647338]\n",
      " [18.13868171]\n",
      " [18.3262503 ]\n",
      " [18.84015559]\n",
      " [19.59999719]\n",
      " [22.49652658]\n",
      " [21.36789178]\n",
      " [20.32920688]\n",
      " [29.66676631]\n",
      " [26.58855258]\n",
      " [23.65530778]\n",
      " [27.09359054]\n",
      " [25.61426317]\n",
      " [29.66947889]\n",
      " [26.45265708]\n",
      " [23.88816594]\n",
      " [31.15917299]\n",
      " [22.70234528]\n",
      " [25.83995068]\n",
      " [24.86158397]\n",
      " [24.37675522]\n",
      " [24.83754449]\n",
      " [32.78000407]\n",
      " [27.53446452]\n",
      " [28.9661642 ]\n",
      " [26.44060093]\n",
      " [29.02284999]\n",
      " [29.05288612]\n",
      " [14.46494871]\n",
      " [13.96220279]\n",
      " [16.81836889]\n",
      " [13.50030293]\n",
      " [22.10227384]\n",
      " [21.05743419]\n",
      " [24.40759069]\n",
      " [23.33493567]\n",
      " [31.67047657]\n",
      " [30.5021933 ]\n",
      " [31.15917299]\n",
      " [32.78000407]\n",
      " [20.00368034]\n",
      " [21.40087794]\n",
      " [19.32235937]\n",
      " [22.34341068]\n",
      " [31.61913696]\n",
      " [30.92774357]\n",
      " [29.74709525]\n",
      " [27.55203166]\n",
      " [23.06989501]\n",
      " [15.21734244]\n",
      " [23.29014912]\n",
      " [23.67129891]\n",
      " [18.47404521]\n",
      " [11.17204125]\n",
      " [14.68722473]\n",
      " [16.75598095]\n",
      " [16.14614579]\n",
      " [30.66912505]\n",
      " [29.38097503]\n",
      " [32.44350005]\n",
      " [27.71571218]\n",
      " [31.15366871]\n",
      " [15.87776414]\n",
      " [17.16950717]\n",
      " [14.48230242]\n",
      " [14.62224354]\n",
      " [19.94992919]\n",
      " [20.82766266]\n",
      " [20.10911207]\n",
      " [20.57059849]\n",
      " [11.62872879]\n",
      " [12.78960476]\n",
      " [10.56342673]\n",
      " [13.05927892]\n",
      " [30.66507233]\n",
      " [25.73615205]\n",
      " [29.1948338 ]\n",
      " [25.68328173]\n",
      " [30.9080734 ]\n",
      " [29.71129318]\n",
      " [31.03110494]\n",
      " [29.40993268]\n",
      " [24.90994127]\n",
      " [25.46307585]\n",
      " [25.14482233]\n",
      " [32.10210168]\n",
      " [32.00679059]\n",
      " [31.97002875]\n",
      " [30.52609888]\n",
      " [32.37820089]\n",
      " [20.65879541]\n",
      " [16.78470037]\n",
      " [17.77781947]\n",
      " [20.27540122]\n",
      " [22.93625004]\n",
      " [24.42829958]\n",
      " [25.91281562]\n",
      " [21.1132238 ]\n",
      " [22.70736584]\n",
      " [21.0535878 ]\n",
      " [23.90114093]\n",
      " [19.62117425]\n",
      " [19.90859094]\n",
      " [18.16211831]\n",
      " [17.49839104]\n",
      " [19.61032336]\n",
      " [15.05260764]\n",
      " [30.1168636 ]\n",
      " [26.38099684]\n",
      " [27.68269394]\n",
      " [29.31509706]\n",
      " [26.60692197]\n",
      " [24.76154528]\n",
      " [25.32023083]\n",
      " [27.15553529]\n",
      " [24.61572739]\n",
      " [21.65361355]\n",
      " [24.21499522]\n",
      " [19.86754799]\n",
      " [30.84620108]\n",
      " [30.21727477]\n",
      " [21.19321981]\n",
      " [24.30278562]\n",
      " [25.05932066]\n",
      " [22.43123512]\n",
      " [20.92651949]\n",
      " [16.8858016 ]\n",
      " [17.53777629]\n",
      " [15.55904894]\n",
      " [16.576819  ]\n",
      " [12.61781094]\n",
      " [14.84675628]\n",
      " [18.59812197]\n",
      " [14.9261969 ]\n",
      " [31.17253739]\n",
      " [31.26519162]\n",
      " [30.67602558]\n",
      " [26.72606698]\n",
      " [22.14004332]\n",
      " [16.54169813]\n",
      " [24.46106483]\n",
      " [21.45895151]\n",
      " [29.73478552]\n",
      " [29.98581346]\n",
      " [31.04619851]\n",
      " [30.23708748]\n",
      " [25.97996247]\n",
      " [24.85864103]\n",
      " [24.33148238]\n",
      " [26.55230615]\n",
      " [29.74157502]\n",
      " [31.54861112]\n",
      " [30.18495447]\n",
      " [31.04428704]\n",
      " [25.939798  ]\n",
      " [25.15973183]\n",
      " [24.30811645]\n",
      " [21.89737458]\n",
      " [29.41997379]\n",
      " [25.89196419]\n",
      " [27.64470222]\n",
      " [27.27901079]\n",
      " [29.1185814 ]\n",
      " [30.5874162 ]\n",
      " [24.48541455]\n",
      " [30.59434824]\n",
      " [31.60004582]\n",
      " [30.34490616]\n",
      " [26.019897  ]\n",
      " [24.3404285 ]\n",
      " [31.75047258]\n",
      " [30.44129314]\n",
      " [30.22781556]\n",
      " [32.05851115]\n",
      " [22.39698146]\n",
      " [27.25845369]\n",
      " [27.14211518]\n",
      " [24.6880334 ]\n",
      " [29.16144249]\n",
      " [27.31746165]\n",
      " [26.47856807]\n",
      " [26.08870153]\n",
      " [24.47504012]\n",
      " [27.84462031]\n",
      " [32.79493915]\n",
      " [31.82106182]\n",
      " [32.64834361]\n",
      " [30.62946025]\n",
      " [31.27212365]\n",
      " [31.02929663]\n",
      " [31.01888282]\n",
      " [30.03617753]\n",
      " [30.83056807]\n",
      " [29.14868094]\n",
      " [29.56973375]\n",
      " [27.90234166]\n",
      " [29.40164416]\n",
      " [28.69183392]\n",
      " [25.93977496]\n",
      " [27.23160461]\n",
      " [23.77591342]\n",
      " [24.31488174]\n",
      " [23.3082165 ]\n",
      " [23.09484718]\n",
      " [20.60879655]\n",
      " [18.49658271]\n",
      " [23.78990349]\n",
      " [21.74471936]\n",
      " [26.68427689]\n",
      " [26.50855734]\n",
      " [27.7385942 ]\n",
      " [26.99633667]\n",
      " [27.1417421 ]\n",
      " [25.65362616]\n",
      " [24.96957726]\n",
      " [23.95910838]\n",
      " [30.62405106]\n",
      " [30.81806048]\n",
      " [31.0941912 ]\n",
      " [30.48802781]\n",
      " [30.15985168]\n",
      " [28.86296918]\n",
      " [29.42674695]\n",
      " [29.48806428]\n",
      " [31.17310834]\n",
      " [31.17310834]\n",
      " [31.02249158]\n",
      " [23.31506093]\n",
      " [23.74748538]\n",
      " [26.26442109]\n",
      " [23.40615982]\n",
      " [25.73070347]\n",
      " [27.91992869]\n",
      " [24.57420606]\n",
      " [25.6690052 ]\n",
      " [31.11033906]\n",
      " [28.29647058]\n",
      " [27.01273849]\n",
      " [26.38127444]]\n"
     ]
    }
   ],
   "source": [
    "y_predicted=model.test(x_norm)\n",
    "y_predicted_normal=(y_predicted*y.std())+y.mean()\n",
    "print(y_predicted_normal)"
   ]
  },
  {
   "cell_type": "code",
   "execution_count": 75,
   "metadata": {},
   "outputs": [
    {
     "name": "stdout",
     "output_type": "stream",
     "text": [
      "R_Squared =  [0.69539254]\n"
     ]
    }
   ],
   "source": [
    "y=np.array(y).reshape(len(y),1)\n",
    "ss_tot=sum((y-y.mean())**2)\n",
    "ss_res=sum((y-y_predicted_normal)**2)\n",
    "r2=1-(ss_res/ss_tot)\n",
    "print('R_Squared = ', r2)"
   ]
  },
  {
   "cell_type": "code",
   "execution_count": null,
   "metadata": {},
   "outputs": [],
   "source": []
  }
 ],
 "metadata": {
  "kernelspec": {
   "display_name": "Python 3",
   "language": "python",
   "name": "python3"
  },
  "language_info": {
   "codemirror_mode": {
    "name": "ipython",
    "version": 3
   },
   "file_extension": ".py",
   "mimetype": "text/x-python",
   "name": "python",
   "nbconvert_exporter": "python",
   "pygments_lexer": "ipython3",
   "version": "3.8.5"
  }
 },
 "nbformat": 4,
 "nbformat_minor": 4
}

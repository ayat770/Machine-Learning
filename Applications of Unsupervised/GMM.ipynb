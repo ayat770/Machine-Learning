{
  "nbformat": 4,
  "nbformat_minor": 0,
  "metadata": {
    "colab": {
      "name": "GMM.ipynb",
      "provenance": []
    },
    "kernelspec": {
      "name": "python3",
      "display_name": "Python 3"
    },
    "language_info": {
      "name": "python"
    }
  },
  "cells": [
    {
      "cell_type": "markdown",
      "metadata": {
        "id": "cQNQUeLRdlrG"
      },
      "source": [
        "## Anomaly detection \n"
      ]
    },
    {
      "cell_type": "code",
      "metadata": {
        "id": "byoEUbR3fWcS"
      },
      "source": [
        "#Import Libraries\n",
        "import pandas as pd\n",
        "import numpy as np\n",
        "import matplotlib.pyplot as plt\n",
        "import matplotlib as mpl\n",
        "import seaborn as sns\n",
        "from scipy.io import loadmat"
      ],
      "execution_count": null,
      "outputs": []
    },
    {
      "cell_type": "markdown",
      "metadata": {
        "id": "m1WGe9gJd76x"
      },
      "source": [
        "###First data is Multi-dimensional point datasets\n",
        "\n",
        "#### Dataset information\n",
        "\n",
        "The original lymphography dataset from UCI machine learning repository is a classification dataset. It is a multi-class dataset having four classes, but two of them are quite small (2 and 4 data records). Therefore, those two small classes are merged and considered as outliers compared to other two large classes (81 and 61 data records)."
      ]
    },
    {
      "cell_type": "markdown",
      "metadata": {
        "id": "NLB3qQ72esWA"
      },
      "source": [
        "### Upload the data"
      ]
    },
    {
      "cell_type": "code",
      "metadata": {
        "id": "z6p8sBXKd6tp"
      },
      "source": [
        "data1 = loadmat('/content/drive/MyDrive/Colab Notebooks/Data Files/lympho.mat')"
      ],
      "execution_count": null,
      "outputs": []
    },
    {
      "cell_type": "code",
      "metadata": {
        "id": "ucVLHhV6fQWJ"
      },
      "source": [
        "#data1"
      ],
      "execution_count": null,
      "outputs": []
    },
    {
      "cell_type": "code",
      "metadata": {
        "colab": {
          "base_uri": "https://localhost:8080/"
        },
        "id": "_Munru-7fzI-",
        "outputId": "c4114871-ba9d-4ae3-d545-a463217cf692"
      },
      "source": [
        "y1 = data1['y']\n",
        "x1 = data1['X']\n",
        "print(x1.shape)\n",
        "print(y1.shape)"
      ],
      "execution_count": null,
      "outputs": [
        {
          "output_type": "stream",
          "name": "stdout",
          "text": [
            "(148, 18)\n",
            "(148, 1)\n"
          ]
        }
      ]
    },
    {
      "cell_type": "code",
      "metadata": {
        "id": "wYSLbs-WgECf"
      },
      "source": [
        "# Create the dataframe\n",
        "df = pd.DataFrame(x1, columns=['x1', 'x2','x3','x4','x5','x6','x7','x8','x9','x10','x11','x12','x13','x14','x15','x16','x17','x18'])"
      ],
      "execution_count": null,
      "outputs": []
    },
    {
      "cell_type": "code",
      "metadata": {
        "id": "e7_CakN5g0g8"
      },
      "source": [
        "dfy = pd.DataFrame(y1, columns=['y'])\n",
        "df_all = pd.concat([df,dfy],axis=1)"
      ],
      "execution_count": null,
      "outputs": []
    },
    {
      "cell_type": "code",
      "metadata": {
        "colab": {
          "base_uri": "https://localhost:8080/",
          "height": 204
        },
        "id": "LS7qLHcmg5Qf",
        "outputId": "d354c796-e384-41bd-e59d-41451d82fb50"
      },
      "source": [
        "df_all.head()"
      ],
      "execution_count": null,
      "outputs": [
        {
          "output_type": "execute_result",
          "data": {
            "text/html": [
              "<div>\n",
              "<style scoped>\n",
              "    .dataframe tbody tr th:only-of-type {\n",
              "        vertical-align: middle;\n",
              "    }\n",
              "\n",
              "    .dataframe tbody tr th {\n",
              "        vertical-align: top;\n",
              "    }\n",
              "\n",
              "    .dataframe thead th {\n",
              "        text-align: right;\n",
              "    }\n",
              "</style>\n",
              "<table border=\"1\" class=\"dataframe\">\n",
              "  <thead>\n",
              "    <tr style=\"text-align: right;\">\n",
              "      <th></th>\n",
              "      <th>x1</th>\n",
              "      <th>x2</th>\n",
              "      <th>x3</th>\n",
              "      <th>x4</th>\n",
              "      <th>x5</th>\n",
              "      <th>x6</th>\n",
              "      <th>x7</th>\n",
              "      <th>x8</th>\n",
              "      <th>x9</th>\n",
              "      <th>x10</th>\n",
              "      <th>x11</th>\n",
              "      <th>x12</th>\n",
              "      <th>x13</th>\n",
              "      <th>x14</th>\n",
              "      <th>x15</th>\n",
              "      <th>x16</th>\n",
              "      <th>x17</th>\n",
              "      <th>x18</th>\n",
              "      <th>y</th>\n",
              "    </tr>\n",
              "  </thead>\n",
              "  <tbody>\n",
              "    <tr>\n",
              "      <th>0</th>\n",
              "      <td>1.0</td>\n",
              "      <td>1.0</td>\n",
              "      <td>1.0</td>\n",
              "      <td>1.0</td>\n",
              "      <td>1.0</td>\n",
              "      <td>1.0</td>\n",
              "      <td>1.0</td>\n",
              "      <td>1.0</td>\n",
              "      <td>1.0</td>\n",
              "      <td>1.0</td>\n",
              "      <td>1.0</td>\n",
              "      <td>1.0</td>\n",
              "      <td>1.0</td>\n",
              "      <td>1.0</td>\n",
              "      <td>1.0</td>\n",
              "      <td>1.0</td>\n",
              "      <td>1.0</td>\n",
              "      <td>1.0</td>\n",
              "      <td>1.0</td>\n",
              "    </tr>\n",
              "    <tr>\n",
              "      <th>1</th>\n",
              "      <td>1.0</td>\n",
              "      <td>1.0</td>\n",
              "      <td>1.0</td>\n",
              "      <td>1.0</td>\n",
              "      <td>1.0</td>\n",
              "      <td>2.0</td>\n",
              "      <td>1.0</td>\n",
              "      <td>2.0</td>\n",
              "      <td>1.0</td>\n",
              "      <td>2.0</td>\n",
              "      <td>2.0</td>\n",
              "      <td>1.0</td>\n",
              "      <td>1.0</td>\n",
              "      <td>2.0</td>\n",
              "      <td>1.0</td>\n",
              "      <td>1.0</td>\n",
              "      <td>1.0</td>\n",
              "      <td>2.0</td>\n",
              "      <td>1.0</td>\n",
              "    </tr>\n",
              "    <tr>\n",
              "      <th>2</th>\n",
              "      <td>3.0</td>\n",
              "      <td>2.0</td>\n",
              "      <td>2.0</td>\n",
              "      <td>2.0</td>\n",
              "      <td>2.0</td>\n",
              "      <td>2.0</td>\n",
              "      <td>2.0</td>\n",
              "      <td>2.0</td>\n",
              "      <td>3.0</td>\n",
              "      <td>1.0</td>\n",
              "      <td>1.0</td>\n",
              "      <td>2.0</td>\n",
              "      <td>2.0</td>\n",
              "      <td>8.0</td>\n",
              "      <td>1.0</td>\n",
              "      <td>2.0</td>\n",
              "      <td>2.0</td>\n",
              "      <td>4.0</td>\n",
              "      <td>1.0</td>\n",
              "    </tr>\n",
              "    <tr>\n",
              "      <th>3</th>\n",
              "      <td>3.0</td>\n",
              "      <td>1.0</td>\n",
              "      <td>1.0</td>\n",
              "      <td>1.0</td>\n",
              "      <td>2.0</td>\n",
              "      <td>2.0</td>\n",
              "      <td>2.0</td>\n",
              "      <td>1.0</td>\n",
              "      <td>3.0</td>\n",
              "      <td>1.0</td>\n",
              "      <td>1.0</td>\n",
              "      <td>4.0</td>\n",
              "      <td>2.0</td>\n",
              "      <td>5.0</td>\n",
              "      <td>3.0</td>\n",
              "      <td>1.0</td>\n",
              "      <td>2.0</td>\n",
              "      <td>4.0</td>\n",
              "      <td>1.0</td>\n",
              "    </tr>\n",
              "    <tr>\n",
              "      <th>4</th>\n",
              "      <td>3.0</td>\n",
              "      <td>2.0</td>\n",
              "      <td>2.0</td>\n",
              "      <td>2.0</td>\n",
              "      <td>2.0</td>\n",
              "      <td>2.0</td>\n",
              "      <td>2.0</td>\n",
              "      <td>1.0</td>\n",
              "      <td>2.0</td>\n",
              "      <td>2.0</td>\n",
              "      <td>2.0</td>\n",
              "      <td>4.0</td>\n",
              "      <td>2.0</td>\n",
              "      <td>4.0</td>\n",
              "      <td>3.0</td>\n",
              "      <td>2.0</td>\n",
              "      <td>2.0</td>\n",
              "      <td>7.0</td>\n",
              "      <td>1.0</td>\n",
              "    </tr>\n",
              "  </tbody>\n",
              "</table>\n",
              "</div>"
            ],
            "text/plain": [
              "    x1   x2   x3   x4   x5   x6   x7  ...  x13  x14  x15  x16  x17  x18    y\n",
              "0  1.0  1.0  1.0  1.0  1.0  1.0  1.0  ...  1.0  1.0  1.0  1.0  1.0  1.0  1.0\n",
              "1  1.0  1.0  1.0  1.0  1.0  2.0  1.0  ...  1.0  2.0  1.0  1.0  1.0  2.0  1.0\n",
              "2  3.0  2.0  2.0  2.0  2.0  2.0  2.0  ...  2.0  8.0  1.0  2.0  2.0  4.0  1.0\n",
              "3  3.0  1.0  1.0  1.0  2.0  2.0  2.0  ...  2.0  5.0  3.0  1.0  2.0  4.0  1.0\n",
              "4  3.0  2.0  2.0  2.0  2.0  2.0  2.0  ...  2.0  4.0  3.0  2.0  2.0  7.0  1.0\n",
              "\n",
              "[5 rows x 19 columns]"
            ]
          },
          "metadata": {},
          "execution_count": 35
        }
      ]
    },
    {
      "cell_type": "code",
      "metadata": {
        "colab": {
          "base_uri": "https://localhost:8080/",
          "height": 317
        },
        "id": "SxKQIRNlv4Rl",
        "outputId": "f0c42382-4fc9-4ef2-e1e7-a0d1ea6261a9"
      },
      "source": [
        "df_all.describe()"
      ],
      "execution_count": null,
      "outputs": [
        {
          "output_type": "execute_result",
          "data": {
            "text/html": [
              "<div>\n",
              "<style scoped>\n",
              "    .dataframe tbody tr th:only-of-type {\n",
              "        vertical-align: middle;\n",
              "    }\n",
              "\n",
              "    .dataframe tbody tr th {\n",
              "        vertical-align: top;\n",
              "    }\n",
              "\n",
              "    .dataframe thead th {\n",
              "        text-align: right;\n",
              "    }\n",
              "</style>\n",
              "<table border=\"1\" class=\"dataframe\">\n",
              "  <thead>\n",
              "    <tr style=\"text-align: right;\">\n",
              "      <th></th>\n",
              "      <th>x1</th>\n",
              "      <th>x2</th>\n",
              "      <th>x3</th>\n",
              "      <th>x4</th>\n",
              "      <th>x5</th>\n",
              "      <th>x6</th>\n",
              "      <th>x7</th>\n",
              "      <th>x8</th>\n",
              "      <th>x9</th>\n",
              "      <th>x10</th>\n",
              "      <th>x11</th>\n",
              "      <th>x12</th>\n",
              "      <th>x13</th>\n",
              "      <th>x14</th>\n",
              "      <th>x15</th>\n",
              "      <th>x16</th>\n",
              "      <th>x17</th>\n",
              "      <th>x18</th>\n",
              "      <th>y</th>\n",
              "    </tr>\n",
              "  </thead>\n",
              "  <tbody>\n",
              "    <tr>\n",
              "      <th>count</th>\n",
              "      <td>148.000000</td>\n",
              "      <td>148.000000</td>\n",
              "      <td>148.000000</td>\n",
              "      <td>148.000000</td>\n",
              "      <td>148.000000</td>\n",
              "      <td>148.000000</td>\n",
              "      <td>148.000000</td>\n",
              "      <td>148.000000</td>\n",
              "      <td>148.000000</td>\n",
              "      <td>148.000000</td>\n",
              "      <td>148.000000</td>\n",
              "      <td>148.000000</td>\n",
              "      <td>148.000000</td>\n",
              "      <td>148.000000</td>\n",
              "      <td>148.000000</td>\n",
              "      <td>148.000000</td>\n",
              "      <td>148.000000</td>\n",
              "      <td>148.000000</td>\n",
              "      <td>148.000000</td>\n",
              "    </tr>\n",
              "    <tr>\n",
              "      <th>mean</th>\n",
              "      <td>2.743243</td>\n",
              "      <td>1.554054</td>\n",
              "      <td>1.175676</td>\n",
              "      <td>1.047297</td>\n",
              "      <td>1.243243</td>\n",
              "      <td>1.506757</td>\n",
              "      <td>1.067568</td>\n",
              "      <td>1.702703</td>\n",
              "      <td>1.060811</td>\n",
              "      <td>2.472973</td>\n",
              "      <td>2.398649</td>\n",
              "      <td>2.966216</td>\n",
              "      <td>2.804054</td>\n",
              "      <td>5.216216</td>\n",
              "      <td>2.331081</td>\n",
              "      <td>1.662162</td>\n",
              "      <td>1.790541</td>\n",
              "      <td>2.601351</td>\n",
              "      <td>0.040541</td>\n",
              "    </tr>\n",
              "    <tr>\n",
              "      <th>std</th>\n",
              "      <td>0.817509</td>\n",
              "      <td>0.498757</td>\n",
              "      <td>0.381836</td>\n",
              "      <td>0.212995</td>\n",
              "      <td>0.430498</td>\n",
              "      <td>0.501652</td>\n",
              "      <td>0.251855</td>\n",
              "      <td>0.458621</td>\n",
              "      <td>0.313557</td>\n",
              "      <td>0.836627</td>\n",
              "      <td>0.568323</td>\n",
              "      <td>0.868305</td>\n",
              "      <td>0.761834</td>\n",
              "      <td>2.171368</td>\n",
              "      <td>0.777126</td>\n",
              "      <td>0.474579</td>\n",
              "      <td>0.408305</td>\n",
              "      <td>1.905023</td>\n",
              "      <td>0.197893</td>\n",
              "    </tr>\n",
              "    <tr>\n",
              "      <th>min</th>\n",
              "      <td>1.000000</td>\n",
              "      <td>1.000000</td>\n",
              "      <td>1.000000</td>\n",
              "      <td>1.000000</td>\n",
              "      <td>1.000000</td>\n",
              "      <td>1.000000</td>\n",
              "      <td>1.000000</td>\n",
              "      <td>1.000000</td>\n",
              "      <td>1.000000</td>\n",
              "      <td>1.000000</td>\n",
              "      <td>1.000000</td>\n",
              "      <td>1.000000</td>\n",
              "      <td>1.000000</td>\n",
              "      <td>1.000000</td>\n",
              "      <td>1.000000</td>\n",
              "      <td>1.000000</td>\n",
              "      <td>1.000000</td>\n",
              "      <td>1.000000</td>\n",
              "      <td>0.000000</td>\n",
              "    </tr>\n",
              "    <tr>\n",
              "      <th>25%</th>\n",
              "      <td>2.000000</td>\n",
              "      <td>1.000000</td>\n",
              "      <td>1.000000</td>\n",
              "      <td>1.000000</td>\n",
              "      <td>1.000000</td>\n",
              "      <td>1.000000</td>\n",
              "      <td>1.000000</td>\n",
              "      <td>1.000000</td>\n",
              "      <td>1.000000</td>\n",
              "      <td>2.000000</td>\n",
              "      <td>2.000000</td>\n",
              "      <td>2.000000</td>\n",
              "      <td>2.000000</td>\n",
              "      <td>4.000000</td>\n",
              "      <td>2.000000</td>\n",
              "      <td>1.000000</td>\n",
              "      <td>2.000000</td>\n",
              "      <td>1.000000</td>\n",
              "      <td>0.000000</td>\n",
              "    </tr>\n",
              "    <tr>\n",
              "      <th>50%</th>\n",
              "      <td>3.000000</td>\n",
              "      <td>2.000000</td>\n",
              "      <td>1.000000</td>\n",
              "      <td>1.000000</td>\n",
              "      <td>1.000000</td>\n",
              "      <td>2.000000</td>\n",
              "      <td>1.000000</td>\n",
              "      <td>2.000000</td>\n",
              "      <td>1.000000</td>\n",
              "      <td>2.000000</td>\n",
              "      <td>2.000000</td>\n",
              "      <td>3.000000</td>\n",
              "      <td>3.000000</td>\n",
              "      <td>5.000000</td>\n",
              "      <td>3.000000</td>\n",
              "      <td>2.000000</td>\n",
              "      <td>2.000000</td>\n",
              "      <td>2.000000</td>\n",
              "      <td>0.000000</td>\n",
              "    </tr>\n",
              "    <tr>\n",
              "      <th>75%</th>\n",
              "      <td>3.000000</td>\n",
              "      <td>2.000000</td>\n",
              "      <td>1.000000</td>\n",
              "      <td>1.000000</td>\n",
              "      <td>1.000000</td>\n",
              "      <td>2.000000</td>\n",
              "      <td>1.000000</td>\n",
              "      <td>2.000000</td>\n",
              "      <td>1.000000</td>\n",
              "      <td>3.000000</td>\n",
              "      <td>3.000000</td>\n",
              "      <td>4.000000</td>\n",
              "      <td>3.000000</td>\n",
              "      <td>8.000000</td>\n",
              "      <td>3.000000</td>\n",
              "      <td>2.000000</td>\n",
              "      <td>2.000000</td>\n",
              "      <td>3.000000</td>\n",
              "      <td>0.000000</td>\n",
              "    </tr>\n",
              "    <tr>\n",
              "      <th>max</th>\n",
              "      <td>4.000000</td>\n",
              "      <td>2.000000</td>\n",
              "      <td>2.000000</td>\n",
              "      <td>2.000000</td>\n",
              "      <td>2.000000</td>\n",
              "      <td>2.000000</td>\n",
              "      <td>2.000000</td>\n",
              "      <td>2.000000</td>\n",
              "      <td>3.000000</td>\n",
              "      <td>4.000000</td>\n",
              "      <td>3.000000</td>\n",
              "      <td>4.000000</td>\n",
              "      <td>4.000000</td>\n",
              "      <td>8.000000</td>\n",
              "      <td>3.000000</td>\n",
              "      <td>2.000000</td>\n",
              "      <td>2.000000</td>\n",
              "      <td>8.000000</td>\n",
              "      <td>1.000000</td>\n",
              "    </tr>\n",
              "  </tbody>\n",
              "</table>\n",
              "</div>"
            ],
            "text/plain": [
              "               x1          x2          x3  ...         x17         x18           y\n",
              "count  148.000000  148.000000  148.000000  ...  148.000000  148.000000  148.000000\n",
              "mean     2.743243    1.554054    1.175676  ...    1.790541    2.601351    0.040541\n",
              "std      0.817509    0.498757    0.381836  ...    0.408305    1.905023    0.197893\n",
              "min      1.000000    1.000000    1.000000  ...    1.000000    1.000000    0.000000\n",
              "25%      2.000000    1.000000    1.000000  ...    2.000000    1.000000    0.000000\n",
              "50%      3.000000    2.000000    1.000000  ...    2.000000    2.000000    0.000000\n",
              "75%      3.000000    2.000000    1.000000  ...    2.000000    3.000000    0.000000\n",
              "max      4.000000    2.000000    2.000000  ...    2.000000    8.000000    1.000000\n",
              "\n",
              "[8 rows x 19 columns]"
            ]
          },
          "metadata": {},
          "execution_count": 36
        }
      ]
    },
    {
      "cell_type": "code",
      "metadata": {
        "colab": {
          "base_uri": "https://localhost:8080/"
        },
        "id": "5-OY2gJz-6jk",
        "outputId": "7ae31ca8-9962-4128-a513-fcb32e0d0d3d"
      },
      "source": [
        "df_all[\"y\"].unique()"
      ],
      "execution_count": null,
      "outputs": [
        {
          "output_type": "execute_result",
          "data": {
            "text/plain": [
              "array([1., 0.])"
            ]
          },
          "metadata": {},
          "execution_count": 37
        }
      ]
    },
    {
      "cell_type": "code",
      "metadata": {
        "colab": {
          "base_uri": "https://localhost:8080/",
          "height": 946
        },
        "id": "i3x6lfCVnHzv",
        "outputId": "95886623-fc3b-4ed1-92d4-f58ca835b2ea"
      },
      "source": [
        "# show outliers\n",
        "fig, axes = plt.subplots(4, 5, figsize=(35, 25))\n",
        "fig.suptitle('Different feature distributions')\n",
        "\n",
        "axes = axes.reshape(20,)\n",
        "\n",
        "for i,column in enumerate(df_all.columns[:-1]):\n",
        "    axes[i].set_yscale('symlog')\n",
        "    sns.boxplot(ax = axes[i],x=\"y\", y=column,data=df_all)"
      ],
      "execution_count": null,
      "outputs": [
        {
          "output_type": "display_data",
          "data": {
            "image/png": "[encoded data removed]",
            "text/plain": [
              "<Figure size 2520x1800 with 20 Axes>"
            ]
          },
          "metadata": {
            "needs_background": "light"
          }
        }
      ]
    },
    {
      "cell_type": "code",
      "metadata": {
        "id": "T0IK3A2Qg6zR"
      },
      "source": [
        "from sklearn.model_selection import train_test_split\n",
        "X_train, X_test, y_train, y_test = train_test_split(df,dfy, test_size=0.33, random_state=1, shuffle=True)"
      ],
      "execution_count": null,
      "outputs": []
    },
    {
      "cell_type": "code",
      "metadata": {
        "colab": {
          "base_uri": "https://localhost:8080/",
          "height": 204
        },
        "id": "v3HmnJ2brqvu",
        "outputId": "e639aacd-5505-4c05-b21f-1fe3030e1f20"
      },
      "source": [
        "X_train.head()"
      ],
      "execution_count": null,
      "outputs": [
        {
          "output_type": "execute_result",
          "data": {
            "text/html": [
              "<div>\n",
              "<style scoped>\n",
              "    .dataframe tbody tr th:only-of-type {\n",
              "        vertical-align: middle;\n",
              "    }\n",
              "\n",
              "    .dataframe tbody tr th {\n",
              "        vertical-align: top;\n",
              "    }\n",
              "\n",
              "    .dataframe thead th {\n",
              "        text-align: right;\n",
              "    }\n",
              "</style>\n",
              "<table border=\"1\" class=\"dataframe\">\n",
              "  <thead>\n",
              "    <tr style=\"text-align: right;\">\n",
              "      <th></th>\n",
              "      <th>x1</th>\n",
              "      <th>x2</th>\n",
              "      <th>x3</th>\n",
              "      <th>x4</th>\n",
              "      <th>x5</th>\n",
              "      <th>x6</th>\n",
              "      <th>x7</th>\n",
              "      <th>x8</th>\n",
              "      <th>x9</th>\n",
              "      <th>x10</th>\n",
              "      <th>x11</th>\n",
              "      <th>x12</th>\n",
              "      <th>x13</th>\n",
              "      <th>x14</th>\n",
              "      <th>x15</th>\n",
              "      <th>x16</th>\n",
              "      <th>x17</th>\n",
              "      <th>x18</th>\n",
              "    </tr>\n",
              "  </thead>\n",
              "  <tbody>\n",
              "    <tr>\n",
              "      <th>119</th>\n",
              "      <td>3.0</td>\n",
              "      <td>1.0</td>\n",
              "      <td>1.0</td>\n",
              "      <td>1.0</td>\n",
              "      <td>1.0</td>\n",
              "      <td>1.0</td>\n",
              "      <td>1.0</td>\n",
              "      <td>2.0</td>\n",
              "      <td>1.0</td>\n",
              "      <td>4.0</td>\n",
              "      <td>3.0</td>\n",
              "      <td>3.0</td>\n",
              "      <td>4.0</td>\n",
              "      <td>5.0</td>\n",
              "      <td>3.0</td>\n",
              "      <td>2.0</td>\n",
              "      <td>2.0</td>\n",
              "      <td>3.0</td>\n",
              "    </tr>\n",
              "    <tr>\n",
              "      <th>144</th>\n",
              "      <td>2.0</td>\n",
              "      <td>1.0</td>\n",
              "      <td>1.0</td>\n",
              "      <td>1.0</td>\n",
              "      <td>1.0</td>\n",
              "      <td>2.0</td>\n",
              "      <td>1.0</td>\n",
              "      <td>2.0</td>\n",
              "      <td>1.0</td>\n",
              "      <td>3.0</td>\n",
              "      <td>3.0</td>\n",
              "      <td>2.0</td>\n",
              "      <td>2.0</td>\n",
              "      <td>4.0</td>\n",
              "      <td>3.0</td>\n",
              "      <td>2.0</td>\n",
              "      <td>2.0</td>\n",
              "      <td>6.0</td>\n",
              "    </tr>\n",
              "    <tr>\n",
              "      <th>105</th>\n",
              "      <td>2.0</td>\n",
              "      <td>1.0</td>\n",
              "      <td>1.0</td>\n",
              "      <td>1.0</td>\n",
              "      <td>1.0</td>\n",
              "      <td>2.0</td>\n",
              "      <td>1.0</td>\n",
              "      <td>2.0</td>\n",
              "      <td>1.0</td>\n",
              "      <td>2.0</td>\n",
              "      <td>2.0</td>\n",
              "      <td>3.0</td>\n",
              "      <td>3.0</td>\n",
              "      <td>3.0</td>\n",
              "      <td>3.0</td>\n",
              "      <td>1.0</td>\n",
              "      <td>2.0</td>\n",
              "      <td>1.0</td>\n",
              "    </tr>\n",
              "    <tr>\n",
              "      <th>124</th>\n",
              "      <td>2.0</td>\n",
              "      <td>2.0</td>\n",
              "      <td>2.0</td>\n",
              "      <td>1.0</td>\n",
              "      <td>2.0</td>\n",
              "      <td>2.0</td>\n",
              "      <td>2.0</td>\n",
              "      <td>2.0</td>\n",
              "      <td>1.0</td>\n",
              "      <td>3.0</td>\n",
              "      <td>3.0</td>\n",
              "      <td>4.0</td>\n",
              "      <td>4.0</td>\n",
              "      <td>5.0</td>\n",
              "      <td>3.0</td>\n",
              "      <td>2.0</td>\n",
              "      <td>2.0</td>\n",
              "      <td>5.0</td>\n",
              "    </tr>\n",
              "    <tr>\n",
              "      <th>84</th>\n",
              "      <td>2.0</td>\n",
              "      <td>1.0</td>\n",
              "      <td>1.0</td>\n",
              "      <td>1.0</td>\n",
              "      <td>1.0</td>\n",
              "      <td>1.0</td>\n",
              "      <td>1.0</td>\n",
              "      <td>1.0</td>\n",
              "      <td>1.0</td>\n",
              "      <td>1.0</td>\n",
              "      <td>1.0</td>\n",
              "      <td>1.0</td>\n",
              "      <td>1.0</td>\n",
              "      <td>3.0</td>\n",
              "      <td>1.0</td>\n",
              "      <td>2.0</td>\n",
              "      <td>2.0</td>\n",
              "      <td>1.0</td>\n",
              "    </tr>\n",
              "  </tbody>\n",
              "</table>\n",
              "</div>"
            ],
            "text/plain": [
              "      x1   x2   x3   x4   x5   x6   x7  ...  x12  x13  x14  x15  x16  x17  x18\n",
              "119  3.0  1.0  1.0  1.0  1.0  1.0  1.0  ...  3.0  4.0  5.0  3.0  2.0  2.0  3.0\n",
              "144  2.0  1.0  1.0  1.0  1.0  2.0  1.0  ...  2.0  2.0  4.0  3.0  2.0  2.0  6.0\n",
              "105  2.0  1.0  1.0  1.0  1.0  2.0  1.0  ...  3.0  3.0  3.0  3.0  1.0  2.0  1.0\n",
              "124  2.0  2.0  2.0  1.0  2.0  2.0  2.0  ...  4.0  4.0  5.0  3.0  2.0  2.0  5.0\n",
              "84   2.0  1.0  1.0  1.0  1.0  1.0  1.0  ...  1.0  1.0  3.0  1.0  2.0  2.0  1.0\n",
              "\n",
              "[5 rows x 18 columns]"
            ]
          },
          "metadata": {},
          "execution_count": 39
        }
      ]
    },
    {
      "cell_type": "markdown",
      "metadata": {
        "id": "nLqgGRafVfxo"
      },
      "source": [
        "### What is a Gaussian mixture model What is it used for?\n",
        "A Gaussian mixture model is a probabilistic model that assumes all the data points are generated from a mixture of a finite number of Gaussian distributions with unknown parameters\n",
        "\n",
        "![download.png](data:image/png;base64,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)"
      ]
    },
    {
      "cell_type": "markdown",
      "metadata": {
        "id": "KQqIWP0_WPH6"
      },
      "source": [
        "### Let’s start coding"
      ]
    },
    {
      "cell_type": "code",
      "metadata": {
        "id": "0kRNHJ95uPG6"
      },
      "source": [
        "def estimateGaussian(X):\n",
        "    m = X.shape[0]\n",
        "    #compute mean of X\n",
        "    sum_ = np.sum(X,axis=0)\n",
        "    mu = (sum_/m)\n",
        "    # compute variance of X\n",
        "    var = np.var(X,axis=0)\n",
        "    print(mu, var)\n",
        "    return mu,var"
      ],
      "execution_count": null,
      "outputs": []
    },
    {
      "cell_type": "code",
      "metadata": {
        "id": "fVCOqMP_uQ0l"
      },
      "source": [
        "def multivariateGaussian(X, mu, sigma):\n",
        "    k = len(mu)\n",
        "    sigma=np.diag(sigma)\n",
        "    X = X - mu.T\n",
        "    p = 1/((2*np.pi)**(k/2)*(np.linalg.det(sigma)**0.5))* np.exp(-0.5* np.sum(X @ np.linalg.pinv(sigma) * X,axis=1))\n",
        "    return p"
      ],
      "execution_count": null,
      "outputs": []
    },
    {
      "cell_type": "code",
      "metadata": {
        "colab": {
          "base_uri": "https://localhost:8080/",
          "height": 317
        },
        "id": "sp1T0MbrwRlU",
        "outputId": "50ebe6a1-ab15-468d-d651-273f4a5784cb"
      },
      "source": [
        "X_test.describe()"
      ],
      "execution_count": null,
      "outputs": [
        {
          "output_type": "execute_result",
          "data": {
            "text/html": [
              "<div>\n",
              "<style scoped>\n",
              "    .dataframe tbody tr th:only-of-type {\n",
              "        vertical-align: middle;\n",
              "    }\n",
              "\n",
              "    .dataframe tbody tr th {\n",
              "        vertical-align: top;\n",
              "    }\n",
              "\n",
              "    .dataframe thead th {\n",
              "        text-align: right;\n",
              "    }\n",
              "</style>\n",
              "<table border=\"1\" class=\"dataframe\">\n",
              "  <thead>\n",
              "    <tr style=\"text-align: right;\">\n",
              "      <th></th>\n",
              "      <th>x1</th>\n",
              "      <th>x2</th>\n",
              "      <th>x3</th>\n",
              "      <th>x4</th>\n",
              "      <th>x5</th>\n",
              "      <th>x6</th>\n",
              "      <th>x7</th>\n",
              "      <th>x8</th>\n",
              "      <th>x9</th>\n",
              "      <th>x10</th>\n",
              "      <th>x11</th>\n",
              "      <th>x12</th>\n",
              "      <th>x13</th>\n",
              "      <th>x14</th>\n",
              "      <th>x15</th>\n",
              "      <th>x16</th>\n",
              "      <th>x17</th>\n",
              "      <th>x18</th>\n",
              "    </tr>\n",
              "  </thead>\n",
              "  <tbody>\n",
              "    <tr>\n",
              "      <th>count</th>\n",
              "      <td>49.000000</td>\n",
              "      <td>49.000000</td>\n",
              "      <td>49.000000</td>\n",
              "      <td>49.000000</td>\n",
              "      <td>49.000000</td>\n",
              "      <td>49.000000</td>\n",
              "      <td>49.000000</td>\n",
              "      <td>49.000000</td>\n",
              "      <td>49.000000</td>\n",
              "      <td>49.000000</td>\n",
              "      <td>49.000000</td>\n",
              "      <td>49.000000</td>\n",
              "      <td>49.000000</td>\n",
              "      <td>49.000000</td>\n",
              "      <td>49.000000</td>\n",
              "      <td>49.000000</td>\n",
              "      <td>49.000000</td>\n",
              "      <td>49.000000</td>\n",
              "    </tr>\n",
              "    <tr>\n",
              "      <th>mean</th>\n",
              "      <td>2.795918</td>\n",
              "      <td>1.571429</td>\n",
              "      <td>1.163265</td>\n",
              "      <td>1.040816</td>\n",
              "      <td>1.204082</td>\n",
              "      <td>1.469388</td>\n",
              "      <td>1.061224</td>\n",
              "      <td>1.653061</td>\n",
              "      <td>1.081633</td>\n",
              "      <td>2.367347</td>\n",
              "      <td>2.367347</td>\n",
              "      <td>2.979592</td>\n",
              "      <td>2.816327</td>\n",
              "      <td>5.244898</td>\n",
              "      <td>2.244898</td>\n",
              "      <td>1.693878</td>\n",
              "      <td>1.795918</td>\n",
              "      <td>2.346939</td>\n",
              "    </tr>\n",
              "    <tr>\n",
              "      <th>std</th>\n",
              "      <td>0.815976</td>\n",
              "      <td>0.500000</td>\n",
              "      <td>0.373438</td>\n",
              "      <td>0.199915</td>\n",
              "      <td>0.407206</td>\n",
              "      <td>0.504234</td>\n",
              "      <td>0.242226</td>\n",
              "      <td>0.480929</td>\n",
              "      <td>0.343798</td>\n",
              "      <td>0.782461</td>\n",
              "      <td>0.528121</td>\n",
              "      <td>0.853664</td>\n",
              "      <td>0.754803</td>\n",
              "      <td>2.241006</td>\n",
              "      <td>0.750850</td>\n",
              "      <td>0.465657</td>\n",
              "      <td>0.407206</td>\n",
              "      <td>1.843355</td>\n",
              "    </tr>\n",
              "    <tr>\n",
              "      <th>min</th>\n",
              "      <td>2.000000</td>\n",
              "      <td>1.000000</td>\n",
              "      <td>1.000000</td>\n",
              "      <td>1.000000</td>\n",
              "      <td>1.000000</td>\n",
              "      <td>1.000000</td>\n",
              "      <td>1.000000</td>\n",
              "      <td>1.000000</td>\n",
              "      <td>1.000000</td>\n",
              "      <td>1.000000</td>\n",
              "      <td>1.000000</td>\n",
              "      <td>2.000000</td>\n",
              "      <td>1.000000</td>\n",
              "      <td>2.000000</td>\n",
              "      <td>1.000000</td>\n",
              "      <td>1.000000</td>\n",
              "      <td>1.000000</td>\n",
              "      <td>1.000000</td>\n",
              "    </tr>\n",
              "    <tr>\n",
              "      <th>25%</th>\n",
              "      <td>2.000000</td>\n",
              "      <td>1.000000</td>\n",
              "      <td>1.000000</td>\n",
              "      <td>1.000000</td>\n",
              "      <td>1.000000</td>\n",
              "      <td>1.000000</td>\n",
              "      <td>1.000000</td>\n",
              "      <td>1.000000</td>\n",
              "      <td>1.000000</td>\n",
              "      <td>2.000000</td>\n",
              "      <td>2.000000</td>\n",
              "      <td>2.000000</td>\n",
              "      <td>2.000000</td>\n",
              "      <td>4.000000</td>\n",
              "      <td>2.000000</td>\n",
              "      <td>1.000000</td>\n",
              "      <td>2.000000</td>\n",
              "      <td>1.000000</td>\n",
              "    </tr>\n",
              "    <tr>\n",
              "      <th>50%</th>\n",
              "      <td>3.000000</td>\n",
              "      <td>2.000000</td>\n",
              "      <td>1.000000</td>\n",
              "      <td>1.000000</td>\n",
              "      <td>1.000000</td>\n",
              "      <td>1.000000</td>\n",
              "      <td>1.000000</td>\n",
              "      <td>2.000000</td>\n",
              "      <td>1.000000</td>\n",
              "      <td>2.000000</td>\n",
              "      <td>2.000000</td>\n",
              "      <td>3.000000</td>\n",
              "      <td>3.000000</td>\n",
              "      <td>5.000000</td>\n",
              "      <td>2.000000</td>\n",
              "      <td>2.000000</td>\n",
              "      <td>2.000000</td>\n",
              "      <td>2.000000</td>\n",
              "    </tr>\n",
              "    <tr>\n",
              "      <th>75%</th>\n",
              "      <td>3.000000</td>\n",
              "      <td>2.000000</td>\n",
              "      <td>1.000000</td>\n",
              "      <td>1.000000</td>\n",
              "      <td>1.000000</td>\n",
              "      <td>2.000000</td>\n",
              "      <td>1.000000</td>\n",
              "      <td>2.000000</td>\n",
              "      <td>1.000000</td>\n",
              "      <td>3.000000</td>\n",
              "      <td>3.000000</td>\n",
              "      <td>4.000000</td>\n",
              "      <td>3.000000</td>\n",
              "      <td>8.000000</td>\n",
              "      <td>3.000000</td>\n",
              "      <td>2.000000</td>\n",
              "      <td>2.000000</td>\n",
              "      <td>3.000000</td>\n",
              "    </tr>\n",
              "    <tr>\n",
              "      <th>max</th>\n",
              "      <td>4.000000</td>\n",
              "      <td>2.000000</td>\n",
              "      <td>2.000000</td>\n",
              "      <td>2.000000</td>\n",
              "      <td>2.000000</td>\n",
              "      <td>2.000000</td>\n",
              "      <td>2.000000</td>\n",
              "      <td>2.000000</td>\n",
              "      <td>3.000000</td>\n",
              "      <td>4.000000</td>\n",
              "      <td>3.000000</td>\n",
              "      <td>4.000000</td>\n",
              "      <td>4.000000</td>\n",
              "      <td>8.000000</td>\n",
              "      <td>3.000000</td>\n",
              "      <td>2.000000</td>\n",
              "      <td>2.000000</td>\n",
              "      <td>7.000000</td>\n",
              "    </tr>\n",
              "  </tbody>\n",
              "</table>\n",
              "</div>"
            ],
            "text/plain": [
              "              x1         x2         x3  ...        x16        x17        x18\n",
              "count  49.000000  49.000000  49.000000  ...  49.000000  49.000000  49.000000\n",
              "mean    2.795918   1.571429   1.163265  ...   1.693878   1.795918   2.346939\n",
              "std     0.815976   0.500000   0.373438  ...   0.465657   0.407206   1.843355\n",
              "min     2.000000   1.000000   1.000000  ...   1.000000   1.000000   1.000000\n",
              "25%     2.000000   1.000000   1.000000  ...   1.000000   2.000000   1.000000\n",
              "50%     3.000000   2.000000   1.000000  ...   2.000000   2.000000   2.000000\n",
              "75%     3.000000   2.000000   1.000000  ...   2.000000   2.000000   3.000000\n",
              "max     4.000000   2.000000   2.000000  ...   2.000000   2.000000   7.000000\n",
              "\n",
              "[8 rows x 18 columns]"
            ]
          },
          "metadata": {},
          "execution_count": 42
        }
      ]
    },
    {
      "cell_type": "code",
      "metadata": {
        "colab": {
          "base_uri": "https://localhost:8080/"
        },
        "id": "TMrxByVJyNw1",
        "outputId": "1a4815f9-4bec-4672-9e7e-0c38d3161312"
      },
      "source": [
        "len(X_test)"
      ],
      "execution_count": null,
      "outputs": [
        {
          "output_type": "execute_result",
          "data": {
            "text/plain": [
              "49"
            ]
          },
          "metadata": {},
          "execution_count": 43
        }
      ]
    },
    {
      "cell_type": "code",
      "metadata": {
        "colab": {
          "base_uri": "https://localhost:8080/"
        },
        "id": "RqZMZc_ouVDE",
        "outputId": "4a269499-b17d-49b8-a2b8-4cc0b580f451"
      },
      "source": [
        "mu, sigma = estimateGaussian(X_train)\n",
        "p = multivariateGaussian(X_test, mu, sigma) # contain mean & probability for each sample"
      ],
      "execution_count": null,
      "outputs": [
        {
          "output_type": "stream",
          "name": "stdout",
          "text": [
            "x1     2.717172\n",
            "x2     1.545455\n",
            "x3     1.181818\n",
            "x4     1.050505\n",
            "x5     1.262626\n",
            "x6     1.525253\n",
            "x7     1.070707\n",
            "x8     1.727273\n",
            "x9     1.050505\n",
            "x10    2.525253\n",
            "x11    2.414141\n",
            "x12    2.959596\n",
            "x13    2.797980\n",
            "x14    5.202020\n",
            "x15    2.373737\n",
            "x16    1.646465\n",
            "x17    1.787879\n",
            "x18    2.727273\n",
            "dtype: float64 x1     0.667483\n",
            "x2     0.247934\n",
            "x3     0.148760\n",
            "x4     0.047954\n",
            "x5     0.193654\n",
            "x6     0.249362\n",
            "x7     0.065708\n",
            "x8     0.198347\n",
            "x9     0.088358\n",
            "x10    0.734211\n",
            "x11    0.343638\n",
            "x12    0.766044\n",
            "x13    0.585450\n",
            "x14    4.565248\n",
            "x15    0.617896\n",
            "x16    0.228548\n",
            "x17    0.167126\n",
            "x18    3.693297\n",
            "dtype: float64\n"
          ]
        },
        {
          "output_type": "execute_result",
          "data": {
            "text/plain": [
              "100    0.001205\n",
              "121    0.001205\n",
              "54     0.001205\n",
              "104    0.001205\n",
              "99     0.001205\n",
              "75     0.001205\n",
              "90     0.001205\n",
              "53     0.001205\n",
              "44     0.001205\n",
              "59     0.001205\n",
              "5      0.001205\n",
              "16     0.001205\n",
              "92     0.001205\n",
              "14     0.001205\n",
              "58     0.001205\n",
              "33     0.001205\n",
              "73     0.001205\n",
              "29     0.001205\n",
              "66     0.001205\n",
              "35     0.001205\n",
              "118    0.001205\n",
              "85     0.001205\n",
              "31     0.001205\n",
              "141    0.001205\n",
              "110    0.001205\n",
              "19     0.001205\n",
              "51     0.001205\n",
              "48     0.001205\n",
              "89     0.001205\n",
              "142    0.001205\n",
              "126    0.001205\n",
              "97     0.001205\n",
              "42     0.001205\n",
              "135    0.001205\n",
              "28     0.001205\n",
              "40     0.001205\n",
              "117    0.001205\n",
              "116    0.001205\n",
              "17     0.001205\n",
              "112    0.001205\n",
              "78     0.001205\n",
              "69     0.001205\n",
              "74     0.001205\n",
              "18     0.001205\n",
              "4      0.001205\n",
              "45     0.001205\n",
              "56     0.001205\n",
              "39     0.001205\n",
              "36     0.001205\n",
              "dtype: float64"
            ]
          },
          "metadata": {},
          "execution_count": 51
        }
      ]
    },
    {
      "cell_type": "code",
      "metadata": {
        "colab": {
          "base_uri": "https://localhost:8080/"
        },
        "id": "wPb_dRsanBcL",
        "outputId": "98fc690b-1fff-462c-f51a-fbbe0d2f9cda"
      },
      "source": [
        "# uning sklearn \n",
        "from sklearn.mixture import GaussianMixture\n",
        "gm = GaussianMixture(n_components = 4, covariance_type = 'full', random_state=0)\n",
        "gm.fit(X_train)"
      ],
      "execution_count": null,
      "outputs": [
        {
          "output_type": "execute_result",
          "data": {
            "text/plain": [
              "GaussianMixture(covariance_type='full', init_params='kmeans', max_iter=100,\n",
              "                means_init=None, n_components=4, n_init=1, precisions_init=None,\n",
              "                random_state=0, reg_covar=1e-06, tol=0.001, verbose=0,\n",
              "                verbose_interval=10, warm_start=False, weights_init=None)"
            ]
          },
          "metadata": {},
          "execution_count": 62
        }
      ]
    },
    {
      "cell_type": "code",
      "metadata": {
        "id": "veMMb-vSql3R"
      },
      "source": [
        "c=gm.predict_proba(X_test)"
      ],
      "execution_count": null,
      "outputs": []
    },
    {
      "cell_type": "code",
      "metadata": {
        "colab": {
          "base_uri": "https://localhost:8080/"
        },
        "id": "Yp5Ujia4yXEP",
        "outputId": "51f1d447-ae87-4e29-833b-ee5e598f3f63"
      },
      "source": [
        "len(X_test)"
      ],
      "execution_count": null,
      "outputs": [
        {
          "output_type": "execute_result",
          "data": {
            "text/plain": [
              "49"
            ]
          },
          "metadata": {},
          "execution_count": 64
        }
      ]
    },
    {
      "cell_type": "code",
      "metadata": {
        "colab": {
          "base_uri": "https://localhost:8080/"
        },
        "id": "rIGkrPd9t1ku",
        "outputId": "d7dcfdf0-c536-4467-eeb9-2a8e3b78aa65"
      },
      "source": [
        "len(c)"
      ],
      "execution_count": null,
      "outputs": [
        {
          "output_type": "execute_result",
          "data": {
            "text/plain": [
              "49"
            ]
          },
          "metadata": {},
          "execution_count": 65
        }
      ]
    },
    {
      "cell_type": "code",
      "metadata": {
        "colab": {
          "base_uri": "https://localhost:8080/"
        },
        "id": "zl0w0qJjvo6S",
        "outputId": "c467294d-b151-4b31-d49b-78a1a7575354"
      },
      "source": [
        "c # contain probability for each sample"
      ],
      "execution_count": null,
      "outputs": [
        {
          "output_type": "execute_result",
          "data": {
            "text/plain": [
              "array([[1.00000000e+000, 0.00000000e+000, 0.00000000e+000,\n",
              "        0.00000000e+000],\n",
              "       [3.67086122e-012, 1.00000000e+000, 0.00000000e+000,\n",
              "        0.00000000e+000],\n",
              "       [1.00000000e+000, 0.00000000e+000, 0.00000000e+000,\n",
              "        0.00000000e+000],\n",
              "       [1.00000000e+000, 0.00000000e+000, 0.00000000e+000,\n",
              "        0.00000000e+000],\n",
              "       [1.33526987e-002, 9.86647301e-001, 0.00000000e+000,\n",
              "        0.00000000e+000],\n",
              "       [1.00000000e+000, 0.00000000e+000, 3.26634147e-015,\n",
              "        0.00000000e+000],\n",
              "       [8.67700659e-013, 1.00000000e+000, 0.00000000e+000,\n",
              "        0.00000000e+000],\n",
              "       [1.00000000e+000, 0.00000000e+000, 0.00000000e+000,\n",
              "        0.00000000e+000],\n",
              "       [9.97977017e-001, 2.02298272e-003, 0.00000000e+000,\n",
              "        0.00000000e+000],\n",
              "       [1.00000000e+000, 0.00000000e+000, 0.00000000e+000,\n",
              "        0.00000000e+000],\n",
              "       [0.00000000e+000, 0.00000000e+000, 1.00000000e+000,\n",
              "        0.00000000e+000],\n",
              "       [1.00000000e+000, 0.00000000e+000, 0.00000000e+000,\n",
              "        0.00000000e+000],\n",
              "       [1.00000000e+000, 0.00000000e+000, 2.88668582e-043,\n",
              "        0.00000000e+000],\n",
              "       [1.00000000e+000, 0.00000000e+000, 0.00000000e+000,\n",
              "        0.00000000e+000],\n",
              "       [1.00000000e+000, 0.00000000e+000, 0.00000000e+000,\n",
              "        0.00000000e+000],\n",
              "       [1.00000000e+000, 0.00000000e+000, 0.00000000e+000,\n",
              "        0.00000000e+000],\n",
              "       [1.00000000e+000, 0.00000000e+000, 0.00000000e+000,\n",
              "        0.00000000e+000],\n",
              "       [0.00000000e+000, 1.00000000e+000, 0.00000000e+000,\n",
              "        0.00000000e+000],\n",
              "       [9.99999995e-001, 5.24864814e-009, 0.00000000e+000,\n",
              "        0.00000000e+000],\n",
              "       [1.00000000e+000, 0.00000000e+000, 0.00000000e+000,\n",
              "        0.00000000e+000],\n",
              "       [1.00000000e+000, 0.00000000e+000, 0.00000000e+000,\n",
              "        0.00000000e+000],\n",
              "       [1.00000000e+000, 0.00000000e+000, 0.00000000e+000,\n",
              "        0.00000000e+000],\n",
              "       [1.00000000e+000, 3.11945419e-015, 0.00000000e+000,\n",
              "        0.00000000e+000],\n",
              "       [4.50888896e-006, 9.99995491e-001, 0.00000000e+000,\n",
              "        0.00000000e+000],\n",
              "       [1.75541229e-005, 9.99982446e-001, 1.16499650e-101,\n",
              "        0.00000000e+000],\n",
              "       [1.00000000e+000, 0.00000000e+000, 7.78568535e-024,\n",
              "        0.00000000e+000],\n",
              "       [9.99999965e-001, 3.47988557e-008, 0.00000000e+000,\n",
              "        0.00000000e+000],\n",
              "       [1.00000000e+000, 1.71485242e-028, 0.00000000e+000,\n",
              "        0.00000000e+000],\n",
              "       [9.99998300e-001, 0.00000000e+000, 1.69978002e-006,\n",
              "        0.00000000e+000],\n",
              "       [0.00000000e+000, 0.00000000e+000, 1.00000000e+000,\n",
              "        0.00000000e+000],\n",
              "       [8.78476614e-001, 1.21523386e-001, 0.00000000e+000,\n",
              "        0.00000000e+000],\n",
              "       [1.00000000e+000, 0.00000000e+000, 6.73160766e-020,\n",
              "        0.00000000e+000],\n",
              "       [1.00000000e+000, 0.00000000e+000, 0.00000000e+000,\n",
              "        0.00000000e+000],\n",
              "       [1.00000000e+000, 0.00000000e+000, 0.00000000e+000,\n",
              "        0.00000000e+000],\n",
              "       [5.95154992e-001, 4.04845008e-001, 3.89482967e-096,\n",
              "        0.00000000e+000],\n",
              "       [1.00000000e+000, 0.00000000e+000, 0.00000000e+000,\n",
              "        0.00000000e+000],\n",
              "       [2.47233625e-002, 0.00000000e+000, 9.75276638e-001,\n",
              "        0.00000000e+000],\n",
              "       [1.00000000e+000, 0.00000000e+000, 0.00000000e+000,\n",
              "        0.00000000e+000],\n",
              "       [1.00000000e+000, 0.00000000e+000, 0.00000000e+000,\n",
              "        0.00000000e+000],\n",
              "       [9.99947353e-001, 0.00000000e+000, 5.26474263e-005,\n",
              "        0.00000000e+000],\n",
              "       [1.00000000e+000, 0.00000000e+000, 0.00000000e+000,\n",
              "        0.00000000e+000],\n",
              "       [9.99998701e-001, 1.29920485e-006, 0.00000000e+000,\n",
              "        0.00000000e+000],\n",
              "       [1.00000000e+000, 0.00000000e+000, 3.25168658e-066,\n",
              "        0.00000000e+000],\n",
              "       [1.00000000e+000, 0.00000000e+000, 0.00000000e+000,\n",
              "        0.00000000e+000],\n",
              "       [0.00000000e+000, 0.00000000e+000, 1.00000000e+000,\n",
              "        0.00000000e+000],\n",
              "       [1.00000000e+000, 0.00000000e+000, 0.00000000e+000,\n",
              "        0.00000000e+000],\n",
              "       [1.00000000e+000, 0.00000000e+000, 0.00000000e+000,\n",
              "        0.00000000e+000],\n",
              "       [1.00000000e+000, 0.00000000e+000, 0.00000000e+000,\n",
              "        0.00000000e+000],\n",
              "       [1.00000000e+000, 0.00000000e+000, 0.00000000e+000,\n",
              "        0.00000000e+000]])"
            ]
          },
          "metadata": {},
          "execution_count": 66
        }
      ]
    },
    {
      "cell_type": "code",
      "metadata": {
        "colab": {
          "base_uri": "https://localhost:8080/"
        },
        "id": "Ag_C5Vwu5KMm",
        "outputId": "2deb7bad-b90d-405f-8a8f-1cdc2275f13f"
      },
      "source": [
        "y_pre = gm.predict(X_test)\n",
        "y_pre"
      ],
      "execution_count": null,
      "outputs": [
        {
          "output_type": "execute_result",
          "data": {
            "text/plain": [
              "array([0, 1, 0, 0, 1, 0, 1, 0, 0, 0, 2, 0, 0, 0, 0, 0, 0, 1, 0, 0, 0, 0,\n",
              "       0, 1, 1, 0, 0, 0, 0, 2, 0, 0, 0, 0, 0, 0, 2, 0, 0, 0, 0, 0, 0, 0,\n",
              "       2, 0, 0, 0, 0])"
            ]
          },
          "metadata": {},
          "execution_count": 67
        }
      ]
    },
    {
      "cell_type": "markdown",
      "metadata": {
        "id": "PoJJIhZ6XYKt"
      },
      "source": [
        "## what is AUC metric \n",
        "Compute Area Under the Curve (AUC) using the trapezoidal rule.\n",
        "\n",
        "This is a general function, given points on a curve. For computing the area under the ROC-curve\n",
        "\n",
        "![images.png](data:image/png;base64,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)"
      ]
    },
    {
      "cell_type": "code",
      "metadata": {
        "colab": {
          "base_uri": "https://localhost:8080/"
        },
        "id": "eWgrw4tJx3n9",
        "outputId": "03b18010-edf4-4875-fe83-37005dca8ff6"
      },
      "source": [
        "from sklearn import metrics\n",
        "fpr, tpr, thresholds = metrics.roc_curve(y_test, y_pre)\n",
        "metrics.auc(fpr, tpr)"
      ],
      "execution_count": null,
      "outputs": [
        {
          "output_type": "execute_result",
          "data": {
            "text/plain": [
              "0.9787234042553191"
            ]
          },
          "metadata": {},
          "execution_count": 68
        }
      ]
    },
    {
      "cell_type": "code",
      "metadata": {
        "colab": {
          "base_uri": "https://localhost:8080/"
        },
        "id": "g4K_DAlb4u_9",
        "outputId": "e2524295-39a6-4b59-d5fd-79c05e279915"
      },
      "source": [
        "# Import Libraries\n",
        "from sklearn.linear_model import LogisticRegression\n",
        "#----------------------------------------------------\n",
        "LogisticRegressionModel = LogisticRegression(penalty='l2',solver='sag',C=1.0,random_state=42,max_iter=100)\n",
        "LogisticRegressionModel.fit(X_train, y_train)"
      ],
      "execution_count": null,
      "outputs": [
        {
          "output_type": "stream",
          "name": "stderr",
          "text": [
            "/usr/local/lib/python3.7/dist-packages/sklearn/utils/validation.py:760: DataConversionWarning: A column-vector y was passed when a 1d array was expected. Please change the shape of y to (n_samples, ), for example using ravel().\n",
            "  y = column_or_1d(y, warn=True)\n",
            "/usr/local/lib/python3.7/dist-packages/sklearn/linear_model/_sag.py:330: ConvergenceWarning: The max_iter was reached which means the coef_ did not converge\n",
            "  \"the coef_ did not converge\", ConvergenceWarning)\n"
          ]
        },
        {
          "output_type": "execute_result",
          "data": {
            "text/plain": [
              "LogisticRegression(C=1.0, class_weight=None, dual=False, fit_intercept=True,\n",
              "                   intercept_scaling=1, l1_ratio=None, max_iter=100,\n",
              "                   multi_class='auto', n_jobs=None, penalty='l2',\n",
              "                   random_state=42, solver='sag', tol=0.0001, verbose=0,\n",
              "                   warm_start=False)"
            ]
          },
          "metadata": {},
          "execution_count": 70
        }
      ]
    },
    {
      "cell_type": "code",
      "metadata": {
        "colab": {
          "base_uri": "https://localhost:8080/"
        },
        "id": "FAQyPlzN_SN2",
        "outputId": "d7a85350-5893-4dfc-caf6-73708f2868e4"
      },
      "source": [
        "print('LogisticRegressionModel Train Score is : ' , LogisticRegressionModel.score(X_train, y_train))"
      ],
      "execution_count": null,
      "outputs": [
        {
          "output_type": "stream",
          "name": "stdout",
          "text": [
            "LogisticRegressionModel Train Score is :  0.98989898989899\n"
          ]
        }
      ]
    },
    {
      "cell_type": "code",
      "metadata": {
        "colab": {
          "base_uri": "https://localhost:8080/"
        },
        "id": "AmnPBWOP_ZfQ",
        "outputId": "9de81640-a343-470c-d49d-28c7007d20fa"
      },
      "source": [
        "print('LogisticRegressionModel Test Score is : ' , LogisticRegressionModel.score(X_test, y_test))"
      ],
      "execution_count": null,
      "outputs": [
        {
          "output_type": "stream",
          "name": "stdout",
          "text": [
            "LogisticRegressionModel Test Score is :  0.9795918367346939\n"
          ]
        }
      ]
    },
    {
      "cell_type": "code",
      "metadata": {
        "id": "8QziTuh5ANzP"
      },
      "source": [
        "y_pred = LogisticRegressionModel.predict(X_test)"
      ],
      "execution_count": null,
      "outputs": []
    },
    {
      "cell_type": "code",
      "metadata": {
        "colab": {
          "base_uri": "https://localhost:8080/"
        },
        "id": "3cahryIcATwC",
        "outputId": "85d1e385-b680-47f1-acb1-87886fc09dbc"
      },
      "source": [
        "fpr, tpr, thresholds = metrics.roc_curve(y_test, y_pred)\n",
        "metrics.auc(fpr, tpr)"
      ],
      "execution_count": null,
      "outputs": [
        {
          "output_type": "execute_result",
          "data": {
            "text/plain": [
              "0.75"
            ]
          },
          "metadata": {},
          "execution_count": 74
        }
      ]
    },
    {
      "cell_type": "markdown",
      "metadata": {
        "id": "lAzX4KzcYfb3"
      },
      "source": [
        "Score of GGM is 0.97 and Logistic Regression Model is 0.75 so the GMM is better that LR with Anomaly Detection"
      ]
    },
    {
      "cell_type": "markdown",
      "metadata": {
        "id": "hZCtySTo7kqj"
      },
      "source": [
        "### The credit card fraud detection dataset "
      ]
    },
    {
      "cell_type": "code",
      "metadata": {
        "id": "GA1jtxFADVk2"
      },
      "source": [
        "from sklearn.preprocessing import LabelEncoder\n",
        "from sklearn.preprocessing import RobustScaler\n",
        "from sklearn.model_selection import train_test_split\n",
        "from sklearn.metrics import mean_absolute_error\n",
        "from sklearn.tree import DecisionTreeClassifier\n",
        "from sklearn import metrics\n",
        "from sklearn.linear_model import LogisticRegression"
      ],
      "execution_count": null,
      "outputs": []
    },
    {
      "cell_type": "markdown",
      "metadata": {
        "id": "HlqOvs-LAyPr"
      },
      "source": [
        "### Reading data"
      ]
    },
    {
      "cell_type": "code",
      "metadata": {
        "id": "yZ87xFxaAgN_"
      },
      "source": [
        "df = pd.read_csv(\"https://raw.githubusercontent.com/nsethi31/Kaggle-Data-Credit-Card-Fraud-Detection/master/creditcard.csv\", delim_whitespace=False)"
      ],
      "execution_count": null,
      "outputs": []
    },
    {
      "cell_type": "code",
      "metadata": {
        "colab": {
          "base_uri": "https://localhost:8080/"
        },
        "id": "NktMoMQL-iYV",
        "outputId": "7ae4c4e7-c059-4306-bb07-578bc62163b1"
      },
      "source": [
        "df.shape"
      ],
      "execution_count": null,
      "outputs": [
        {
          "output_type": "execute_result",
          "data": {
            "text/plain": [
              "(284807, 31)"
            ]
          },
          "metadata": {},
          "execution_count": 7
        }
      ]
    },
    {
      "cell_type": "code",
      "metadata": {
        "colab": {
          "base_uri": "https://localhost:8080/",
          "height": 224
        },
        "id": "9TZEMJKQ-5Tw",
        "outputId": "024dd2ec-0d02-46e0-df67-f203a9c81853"
      },
      "source": [
        "df.head()"
      ],
      "execution_count": null,
      "outputs": [
        {
          "output_type": "execute_result",
          "data": {
            "text/html": [
              "<div>\n",
              "<style scoped>\n",
              "    .dataframe tbody tr th:only-of-type {\n",
              "        vertical-align: middle;\n",
              "    }\n",
              "\n",
              "    .dataframe tbody tr th {\n",
              "        vertical-align: top;\n",
              "    }\n",
              "\n",
              "    .dataframe thead th {\n",
              "        text-align: right;\n",
              "    }\n",
              "</style>\n",
              "<table border=\"1\" class=\"dataframe\">\n",
              "  <thead>\n",
              "    <tr style=\"text-align: right;\">\n",
              "      <th></th>\n",
              "      <th>Time</th>\n",
              "      <th>V1</th>\n",
              "      <th>V2</th>\n",
              "      <th>V3</th>\n",
              "      <th>V4</th>\n",
              "      <th>V5</th>\n",
              "      <th>V6</th>\n",
              "      <th>V7</th>\n",
              "      <th>V8</th>\n",
              "      <th>V9</th>\n",
              "      <th>V10</th>\n",
              "      <th>V11</th>\n",
              "      <th>V12</th>\n",
              "      <th>V13</th>\n",
              "      <th>V14</th>\n",
              "      <th>V15</th>\n",
              "      <th>V16</th>\n",
              "      <th>V17</th>\n",
              "      <th>V18</th>\n",
              "      <th>V19</th>\n",
              "      <th>V20</th>\n",
              "      <th>V21</th>\n",
              "      <th>V22</th>\n",
              "      <th>V23</th>\n",
              "      <th>V24</th>\n",
              "      <th>V25</th>\n",
              "      <th>V26</th>\n",
              "      <th>V27</th>\n",
              "      <th>V28</th>\n",
              "      <th>Amount</th>\n",
              "      <th>Class</th>\n",
              "    </tr>\n",
              "  </thead>\n",
              "  <tbody>\n",
              "    <tr>\n",
              "      <th>0</th>\n",
              "      <td>0.0</td>\n",
              "      <td>-1.359807</td>\n",
              "      <td>-0.072781</td>\n",
              "      <td>2.536347</td>\n",
              "      <td>1.378155</td>\n",
              "      <td>-0.338321</td>\n",
              "      <td>0.462388</td>\n",
              "      <td>0.239599</td>\n",
              "      <td>0.098698</td>\n",
              "      <td>0.363787</td>\n",
              "      <td>0.090794</td>\n",
              "      <td>-0.551600</td>\n",
              "      <td>-0.617801</td>\n",
              "      <td>-0.991390</td>\n",
              "      <td>-0.311169</td>\n",
              "      <td>1.468177</td>\n",
              "      <td>-0.470401</td>\n",
              "      <td>0.207971</td>\n",
              "      <td>0.025791</td>\n",
              "      <td>0.403993</td>\n",
              "      <td>0.251412</td>\n",
              "      <td>-0.018307</td>\n",
              "      <td>0.277838</td>\n",
              "      <td>-0.110474</td>\n",
              "      <td>0.066928</td>\n",
              "      <td>0.128539</td>\n",
              "      <td>-0.189115</td>\n",
              "      <td>0.133558</td>\n",
              "      <td>-0.021053</td>\n",
              "      <td>149.62</td>\n",
              "      <td>0</td>\n",
              "    </tr>\n",
              "    <tr>\n",
              "      <th>1</th>\n",
              "      <td>0.0</td>\n",
              "      <td>1.191857</td>\n",
              "      <td>0.266151</td>\n",
              "      <td>0.166480</td>\n",
              "      <td>0.448154</td>\n",
              "      <td>0.060018</td>\n",
              "      <td>-0.082361</td>\n",
              "      <td>-0.078803</td>\n",
              "      <td>0.085102</td>\n",
              "      <td>-0.255425</td>\n",
              "      <td>-0.166974</td>\n",
              "      <td>1.612727</td>\n",
              "      <td>1.065235</td>\n",
              "      <td>0.489095</td>\n",
              "      <td>-0.143772</td>\n",
              "      <td>0.635558</td>\n",
              "      <td>0.463917</td>\n",
              "      <td>-0.114805</td>\n",
              "      <td>-0.183361</td>\n",
              "      <td>-0.145783</td>\n",
              "      <td>-0.069083</td>\n",
              "      <td>-0.225775</td>\n",
              "      <td>-0.638672</td>\n",
              "      <td>0.101288</td>\n",
              "      <td>-0.339846</td>\n",
              "      <td>0.167170</td>\n",
              "      <td>0.125895</td>\n",
              "      <td>-0.008983</td>\n",
              "      <td>0.014724</td>\n",
              "      <td>2.69</td>\n",
              "      <td>0</td>\n",
              "    </tr>\n",
              "    <tr>\n",
              "      <th>2</th>\n",
              "      <td>1.0</td>\n",
              "      <td>-1.358354</td>\n",
              "      <td>-1.340163</td>\n",
              "      <td>1.773209</td>\n",
              "      <td>0.379780</td>\n",
              "      <td>-0.503198</td>\n",
              "      <td>1.800499</td>\n",
              "      <td>0.791461</td>\n",
              "      <td>0.247676</td>\n",
              "      <td>-1.514654</td>\n",
              "      <td>0.207643</td>\n",
              "      <td>0.624501</td>\n",
              "      <td>0.066084</td>\n",
              "      <td>0.717293</td>\n",
              "      <td>-0.165946</td>\n",
              "      <td>2.345865</td>\n",
              "      <td>-2.890083</td>\n",
              "      <td>1.109969</td>\n",
              "      <td>-0.121359</td>\n",
              "      <td>-2.261857</td>\n",
              "      <td>0.524980</td>\n",
              "      <td>0.247998</td>\n",
              "      <td>0.771679</td>\n",
              "      <td>0.909412</td>\n",
              "      <td>-0.689281</td>\n",
              "      <td>-0.327642</td>\n",
              "      <td>-0.139097</td>\n",
              "      <td>-0.055353</td>\n",
              "      <td>-0.059752</td>\n",
              "      <td>378.66</td>\n",
              "      <td>0</td>\n",
              "    </tr>\n",
              "    <tr>\n",
              "      <th>3</th>\n",
              "      <td>1.0</td>\n",
              "      <td>-0.966272</td>\n",
              "      <td>-0.185226</td>\n",
              "      <td>1.792993</td>\n",
              "      <td>-0.863291</td>\n",
              "      <td>-0.010309</td>\n",
              "      <td>1.247203</td>\n",
              "      <td>0.237609</td>\n",
              "      <td>0.377436</td>\n",
              "      <td>-1.387024</td>\n",
              "      <td>-0.054952</td>\n",
              "      <td>-0.226487</td>\n",
              "      <td>0.178228</td>\n",
              "      <td>0.507757</td>\n",
              "      <td>-0.287924</td>\n",
              "      <td>-0.631418</td>\n",
              "      <td>-1.059647</td>\n",
              "      <td>-0.684093</td>\n",
              "      <td>1.965775</td>\n",
              "      <td>-1.232622</td>\n",
              "      <td>-0.208038</td>\n",
              "      <td>-0.108300</td>\n",
              "      <td>0.005274</td>\n",
              "      <td>-0.190321</td>\n",
              "      <td>-1.175575</td>\n",
              "      <td>0.647376</td>\n",
              "      <td>-0.221929</td>\n",
              "      <td>0.062723</td>\n",
              "      <td>0.061458</td>\n",
              "      <td>123.50</td>\n",
              "      <td>0</td>\n",
              "    </tr>\n",
              "    <tr>\n",
              "      <th>4</th>\n",
              "      <td>2.0</td>\n",
              "      <td>-1.158233</td>\n",
              "      <td>0.877737</td>\n",
              "      <td>1.548718</td>\n",
              "      <td>0.403034</td>\n",
              "      <td>-0.407193</td>\n",
              "      <td>0.095921</td>\n",
              "      <td>0.592941</td>\n",
              "      <td>-0.270533</td>\n",
              "      <td>0.817739</td>\n",
              "      <td>0.753074</td>\n",
              "      <td>-0.822843</td>\n",
              "      <td>0.538196</td>\n",
              "      <td>1.345852</td>\n",
              "      <td>-1.119670</td>\n",
              "      <td>0.175121</td>\n",
              "      <td>-0.451449</td>\n",
              "      <td>-0.237033</td>\n",
              "      <td>-0.038195</td>\n",
              "      <td>0.803487</td>\n",
              "      <td>0.408542</td>\n",
              "      <td>-0.009431</td>\n",
              "      <td>0.798278</td>\n",
              "      <td>-0.137458</td>\n",
              "      <td>0.141267</td>\n",
              "      <td>-0.206010</td>\n",
              "      <td>0.502292</td>\n",
              "      <td>0.219422</td>\n",
              "      <td>0.215153</td>\n",
              "      <td>69.99</td>\n",
              "      <td>0</td>\n",
              "    </tr>\n",
              "  </tbody>\n",
              "</table>\n",
              "</div>"
            ],
            "text/plain": [
              "   Time        V1        V2        V3  ...       V27       V28  Amount  Class\n",
              "0   0.0 -1.359807 -0.072781  2.536347  ...  0.133558 -0.021053  149.62      0\n",
              "1   0.0  1.191857  0.266151  0.166480  ... -0.008983  0.014724    2.69      0\n",
              "2   1.0 -1.358354 -1.340163  1.773209  ... -0.055353 -0.059752  378.66      0\n",
              "3   1.0 -0.966272 -0.185226  1.792993  ...  0.062723  0.061458  123.50      0\n",
              "4   2.0 -1.158233  0.877737  1.548718  ...  0.219422  0.215153   69.99      0\n",
              "\n",
              "[5 rows x 31 columns]"
            ]
          },
          "metadata": {},
          "execution_count": 9
        }
      ]
    },
    {
      "cell_type": "markdown",
      "metadata": {
        "id": "LZx_DQalBBD6"
      },
      "source": [
        "### Cleaning data"
      ]
    },
    {
      "cell_type": "code",
      "metadata": {
        "colab": {
          "base_uri": "https://localhost:8080/"
        },
        "id": "Yzhxstc3A8H8",
        "outputId": "1cffae20-011a-4fe3-da2f-f1fce46fc0cb"
      },
      "source": [
        "print(\"Total number of cells with missing data: \\n\\n\" ,df.isnull().sum().sum())"
      ],
      "execution_count": null,
      "outputs": [
        {
          "output_type": "stream",
          "name": "stdout",
          "text": [
            "Total number of cells with missing data: \n",
            "\n",
            " 0\n"
          ]
        }
      ]
    },
    {
      "cell_type": "markdown",
      "metadata": {
        "id": "x7E020XPBNty"
      },
      "source": [
        "### First look at the data"
      ]
    },
    {
      "cell_type": "code",
      "metadata": {
        "colab": {
          "base_uri": "https://localhost:8080/",
          "height": 317
        },
        "id": "CfvRnUamBGCq",
        "outputId": "31608359-e338-4185-f1c8-d71a7c0f3ff1"
      },
      "source": [
        "df.describe()"
      ],
      "execution_count": null,
      "outputs": [
        {
          "output_type": "execute_result",
          "data": {
            "text/html": [
              "<div>\n",
              "<style scoped>\n",
              "    .dataframe tbody tr th:only-of-type {\n",
              "        vertical-align: middle;\n",
              "    }\n",
              "\n",
              "    .dataframe tbody tr th {\n",
              "        vertical-align: top;\n",
              "    }\n",
              "\n",
              "    .dataframe thead th {\n",
              "        text-align: right;\n",
              "    }\n",
              "</style>\n",
              "<table border=\"1\" class=\"dataframe\">\n",
              "  <thead>\n",
              "    <tr style=\"text-align: right;\">\n",
              "      <th></th>\n",
              "      <th>Time</th>\n",
              "      <th>V1</th>\n",
              "      <th>V2</th>\n",
              "      <th>V3</th>\n",
              "      <th>V4</th>\n",
              "      <th>V5</th>\n",
              "      <th>V6</th>\n",
              "      <th>V7</th>\n",
              "      <th>V8</th>\n",
              "      <th>V9</th>\n",
              "      <th>V10</th>\n",
              "      <th>V11</th>\n",
              "      <th>V12</th>\n",
              "      <th>V13</th>\n",
              "      <th>V14</th>\n",
              "      <th>V15</th>\n",
              "      <th>V16</th>\n",
              "      <th>V17</th>\n",
              "      <th>V18</th>\n",
              "      <th>V19</th>\n",
              "      <th>V20</th>\n",
              "      <th>V21</th>\n",
              "      <th>V22</th>\n",
              "      <th>V23</th>\n",
              "      <th>V24</th>\n",
              "      <th>V25</th>\n",
              "      <th>V26</th>\n",
              "      <th>V27</th>\n",
              "      <th>V28</th>\n",
              "      <th>Amount</th>\n",
              "      <th>Class</th>\n",
              "    </tr>\n",
              "  </thead>\n",
              "  <tbody>\n",
              "    <tr>\n",
              "      <th>count</th>\n",
              "      <td>284807.000000</td>\n",
              "      <td>2.848070e+05</td>\n",
              "      <td>2.848070e+05</td>\n",
              "      <td>2.848070e+05</td>\n",
              "      <td>2.848070e+05</td>\n",
              "      <td>2.848070e+05</td>\n",
              "      <td>2.848070e+05</td>\n",
              "      <td>2.848070e+05</td>\n",
              "      <td>2.848070e+05</td>\n",
              "      <td>2.848070e+05</td>\n",
              "      <td>2.848070e+05</td>\n",
              "      <td>2.848070e+05</td>\n",
              "      <td>2.848070e+05</td>\n",
              "      <td>2.848070e+05</td>\n",
              "      <td>2.848070e+05</td>\n",
              "      <td>2.848070e+05</td>\n",
              "      <td>2.848070e+05</td>\n",
              "      <td>2.848070e+05</td>\n",
              "      <td>2.848070e+05</td>\n",
              "      <td>2.848070e+05</td>\n",
              "      <td>2.848070e+05</td>\n",
              "      <td>2.848070e+05</td>\n",
              "      <td>2.848070e+05</td>\n",
              "      <td>2.848070e+05</td>\n",
              "      <td>2.848070e+05</td>\n",
              "      <td>2.848070e+05</td>\n",
              "      <td>2.848070e+05</td>\n",
              "      <td>2.848070e+05</td>\n",
              "      <td>2.848070e+05</td>\n",
              "      <td>284807.000000</td>\n",
              "      <td>284807.000000</td>\n",
              "    </tr>\n",
              "    <tr>\n",
              "      <th>mean</th>\n",
              "      <td>94813.859575</td>\n",
              "      <td>1.758743e-12</td>\n",
              "      <td>-8.252298e-13</td>\n",
              "      <td>-9.636929e-13</td>\n",
              "      <td>8.316157e-13</td>\n",
              "      <td>1.591952e-13</td>\n",
              "      <td>4.247354e-13</td>\n",
              "      <td>-3.050180e-13</td>\n",
              "      <td>8.693344e-14</td>\n",
              "      <td>-1.179712e-12</td>\n",
              "      <td>7.094854e-13</td>\n",
              "      <td>1.875015e-12</td>\n",
              "      <td>1.053488e-12</td>\n",
              "      <td>7.137527e-13</td>\n",
              "      <td>-1.491363e-13</td>\n",
              "      <td>-5.225914e-13</td>\n",
              "      <td>-2.280712e-13</td>\n",
              "      <td>-6.428517e-13</td>\n",
              "      <td>4.958987e-13</td>\n",
              "      <td>7.060712e-13</td>\n",
              "      <td>1.766038e-12</td>\n",
              "      <td>-3.406543e-13</td>\n",
              "      <td>-5.713163e-13</td>\n",
              "      <td>-9.725303e-13</td>\n",
              "      <td>1.464139e-12</td>\n",
              "      <td>-6.989087e-13</td>\n",
              "      <td>-5.615260e-13</td>\n",
              "      <td>3.332112e-12</td>\n",
              "      <td>-3.518886e-12</td>\n",
              "      <td>88.349619</td>\n",
              "      <td>0.001727</td>\n",
              "    </tr>\n",
              "    <tr>\n",
              "      <th>std</th>\n",
              "      <td>47488.145955</td>\n",
              "      <td>1.958696e+00</td>\n",
              "      <td>1.651309e+00</td>\n",
              "      <td>1.516255e+00</td>\n",
              "      <td>1.415869e+00</td>\n",
              "      <td>1.380247e+00</td>\n",
              "      <td>1.332271e+00</td>\n",
              "      <td>1.237094e+00</td>\n",
              "      <td>1.194353e+00</td>\n",
              "      <td>1.098632e+00</td>\n",
              "      <td>1.088850e+00</td>\n",
              "      <td>1.020713e+00</td>\n",
              "      <td>9.992014e-01</td>\n",
              "      <td>9.952742e-01</td>\n",
              "      <td>9.585956e-01</td>\n",
              "      <td>9.153160e-01</td>\n",
              "      <td>8.762529e-01</td>\n",
              "      <td>8.493371e-01</td>\n",
              "      <td>8.381762e-01</td>\n",
              "      <td>8.140405e-01</td>\n",
              "      <td>7.709250e-01</td>\n",
              "      <td>7.345240e-01</td>\n",
              "      <td>7.257016e-01</td>\n",
              "      <td>6.244603e-01</td>\n",
              "      <td>6.056471e-01</td>\n",
              "      <td>5.212781e-01</td>\n",
              "      <td>4.822270e-01</td>\n",
              "      <td>4.036325e-01</td>\n",
              "      <td>3.300833e-01</td>\n",
              "      <td>250.120109</td>\n",
              "      <td>0.041527</td>\n",
              "    </tr>\n",
              "    <tr>\n",
              "      <th>min</th>\n",
              "      <td>0.000000</td>\n",
              "      <td>-5.640751e+01</td>\n",
              "      <td>-7.271573e+01</td>\n",
              "      <td>-4.832559e+01</td>\n",
              "      <td>-5.683171e+00</td>\n",
              "      <td>-1.137433e+02</td>\n",
              "      <td>-2.616051e+01</td>\n",
              "      <td>-4.355724e+01</td>\n",
              "      <td>-7.321672e+01</td>\n",
              "      <td>-1.343407e+01</td>\n",
              "      <td>-2.458826e+01</td>\n",
              "      <td>-4.797473e+00</td>\n",
              "      <td>-1.868371e+01</td>\n",
              "      <td>-5.791881e+00</td>\n",
              "      <td>-1.921433e+01</td>\n",
              "      <td>-4.498945e+00</td>\n",
              "      <td>-1.412985e+01</td>\n",
              "      <td>-2.516280e+01</td>\n",
              "      <td>-9.498746e+00</td>\n",
              "      <td>-7.213527e+00</td>\n",
              "      <td>-5.449772e+01</td>\n",
              "      <td>-3.483038e+01</td>\n",
              "      <td>-1.093314e+01</td>\n",
              "      <td>-4.480774e+01</td>\n",
              "      <td>-2.836627e+00</td>\n",
              "      <td>-1.029540e+01</td>\n",
              "      <td>-2.604551e+00</td>\n",
              "      <td>-2.256568e+01</td>\n",
              "      <td>-1.543008e+01</td>\n",
              "      <td>0.000000</td>\n",
              "      <td>0.000000</td>\n",
              "    </tr>\n",
              "    <tr>\n",
              "      <th>25%</th>\n",
              "      <td>54201.500000</td>\n",
              "      <td>-9.203734e-01</td>\n",
              "      <td>-5.985499e-01</td>\n",
              "      <td>-8.903648e-01</td>\n",
              "      <td>-8.486401e-01</td>\n",
              "      <td>-6.915971e-01</td>\n",
              "      <td>-7.682956e-01</td>\n",
              "      <td>-5.540759e-01</td>\n",
              "      <td>-2.086297e-01</td>\n",
              "      <td>-6.430976e-01</td>\n",
              "      <td>-5.354257e-01</td>\n",
              "      <td>-7.624942e-01</td>\n",
              "      <td>-4.055715e-01</td>\n",
              "      <td>-6.485393e-01</td>\n",
              "      <td>-4.255740e-01</td>\n",
              "      <td>-5.828843e-01</td>\n",
              "      <td>-4.680368e-01</td>\n",
              "      <td>-4.837483e-01</td>\n",
              "      <td>-4.988498e-01</td>\n",
              "      <td>-4.562989e-01</td>\n",
              "      <td>-2.117214e-01</td>\n",
              "      <td>-2.283949e-01</td>\n",
              "      <td>-5.423504e-01</td>\n",
              "      <td>-1.618463e-01</td>\n",
              "      <td>-3.545861e-01</td>\n",
              "      <td>-3.171451e-01</td>\n",
              "      <td>-3.269839e-01</td>\n",
              "      <td>-7.083953e-02</td>\n",
              "      <td>-5.295979e-02</td>\n",
              "      <td>5.600000</td>\n",
              "      <td>0.000000</td>\n",
              "    </tr>\n",
              "    <tr>\n",
              "      <th>50%</th>\n",
              "      <td>84692.000000</td>\n",
              "      <td>1.810880e-02</td>\n",
              "      <td>6.548556e-02</td>\n",
              "      <td>1.798463e-01</td>\n",
              "      <td>-1.984653e-02</td>\n",
              "      <td>-5.433583e-02</td>\n",
              "      <td>-2.741871e-01</td>\n",
              "      <td>4.010308e-02</td>\n",
              "      <td>2.235804e-02</td>\n",
              "      <td>-5.142873e-02</td>\n",
              "      <td>-9.291738e-02</td>\n",
              "      <td>-3.275735e-02</td>\n",
              "      <td>1.400326e-01</td>\n",
              "      <td>-1.356806e-02</td>\n",
              "      <td>5.060132e-02</td>\n",
              "      <td>4.807155e-02</td>\n",
              "      <td>6.641332e-02</td>\n",
              "      <td>-6.567575e-02</td>\n",
              "      <td>-3.636312e-03</td>\n",
              "      <td>3.734823e-03</td>\n",
              "      <td>-6.248109e-02</td>\n",
              "      <td>-2.945017e-02</td>\n",
              "      <td>6.781943e-03</td>\n",
              "      <td>-1.119293e-02</td>\n",
              "      <td>4.097606e-02</td>\n",
              "      <td>1.659350e-02</td>\n",
              "      <td>-5.213911e-02</td>\n",
              "      <td>1.342146e-03</td>\n",
              "      <td>1.124383e-02</td>\n",
              "      <td>22.000000</td>\n",
              "      <td>0.000000</td>\n",
              "    </tr>\n",
              "    <tr>\n",
              "      <th>75%</th>\n",
              "      <td>139320.500000</td>\n",
              "      <td>1.315642e+00</td>\n",
              "      <td>8.037239e-01</td>\n",
              "      <td>1.027196e+00</td>\n",
              "      <td>7.433413e-01</td>\n",
              "      <td>6.119264e-01</td>\n",
              "      <td>3.985649e-01</td>\n",
              "      <td>5.704361e-01</td>\n",
              "      <td>3.273459e-01</td>\n",
              "      <td>5.971390e-01</td>\n",
              "      <td>4.539234e-01</td>\n",
              "      <td>7.395934e-01</td>\n",
              "      <td>6.182380e-01</td>\n",
              "      <td>6.625050e-01</td>\n",
              "      <td>4.931498e-01</td>\n",
              "      <td>6.488208e-01</td>\n",
              "      <td>5.232963e-01</td>\n",
              "      <td>3.996750e-01</td>\n",
              "      <td>5.008067e-01</td>\n",
              "      <td>4.589494e-01</td>\n",
              "      <td>1.330408e-01</td>\n",
              "      <td>1.863772e-01</td>\n",
              "      <td>5.285536e-01</td>\n",
              "      <td>1.476421e-01</td>\n",
              "      <td>4.395266e-01</td>\n",
              "      <td>3.507156e-01</td>\n",
              "      <td>2.409522e-01</td>\n",
              "      <td>9.104512e-02</td>\n",
              "      <td>7.827995e-02</td>\n",
              "      <td>77.165000</td>\n",
              "      <td>0.000000</td>\n",
              "    </tr>\n",
              "    <tr>\n",
              "      <th>max</th>\n",
              "      <td>172792.000000</td>\n",
              "      <td>2.454930e+00</td>\n",
              "      <td>2.205773e+01</td>\n",
              "      <td>9.382558e+00</td>\n",
              "      <td>1.687534e+01</td>\n",
              "      <td>3.480167e+01</td>\n",
              "      <td>7.330163e+01</td>\n",
              "      <td>1.205895e+02</td>\n",
              "      <td>2.000721e+01</td>\n",
              "      <td>1.559499e+01</td>\n",
              "      <td>2.374514e+01</td>\n",
              "      <td>1.201891e+01</td>\n",
              "      <td>7.848392e+00</td>\n",
              "      <td>7.126883e+00</td>\n",
              "      <td>1.052677e+01</td>\n",
              "      <td>8.877742e+00</td>\n",
              "      <td>1.731511e+01</td>\n",
              "      <td>9.253526e+00</td>\n",
              "      <td>5.041069e+00</td>\n",
              "      <td>5.591971e+00</td>\n",
              "      <td>3.942090e+01</td>\n",
              "      <td>2.720284e+01</td>\n",
              "      <td>1.050309e+01</td>\n",
              "      <td>2.252841e+01</td>\n",
              "      <td>4.584549e+00</td>\n",
              "      <td>7.519589e+00</td>\n",
              "      <td>3.517346e+00</td>\n",
              "      <td>3.161220e+01</td>\n",
              "      <td>3.384781e+01</td>\n",
              "      <td>25691.160000</td>\n",
              "      <td>1.000000</td>\n",
              "    </tr>\n",
              "  </tbody>\n",
              "</table>\n",
              "</div>"
            ],
            "text/plain": [
              "                Time            V1  ...         Amount          Class\n",
              "count  284807.000000  2.848070e+05  ...  284807.000000  284807.000000\n",
              "mean    94813.859575  1.758743e-12  ...      88.349619       0.001727\n",
              "std     47488.145955  1.958696e+00  ...     250.120109       0.041527\n",
              "min         0.000000 -5.640751e+01  ...       0.000000       0.000000\n",
              "25%     54201.500000 -9.203734e-01  ...       5.600000       0.000000\n",
              "50%     84692.000000  1.810880e-02  ...      22.000000       0.000000\n",
              "75%    139320.500000  1.315642e+00  ...      77.165000       0.000000\n",
              "max    172792.000000  2.454930e+00  ...   25691.160000       1.000000\n",
              "\n",
              "[8 rows x 31 columns]"
            ]
          },
          "metadata": {},
          "execution_count": 11
        }
      ]
    },
    {
      "cell_type": "markdown",
      "metadata": {
        "id": "6f_EJFUtBX3j"
      },
      "source": [
        "As we can see, mean value for transactions amount is approx. 88 dollars"
      ]
    },
    {
      "cell_type": "markdown",
      "metadata": {
        "id": "wg3rUChDB1Zj"
      },
      "source": [
        "### Visualizations"
      ]
    },
    {
      "cell_type": "code",
      "metadata": {
        "colab": {
          "base_uri": "https://localhost:8080/",
          "height": 946
        },
        "id": "ZZcNpElABR3q",
        "outputId": "b5117ba3-26a0-410a-9cba-90d2ab534540"
      },
      "source": [
        "#Distributions\n",
        "\n",
        "fig, axes = plt.subplots(8, 4, figsize=(35, 25))\n",
        "fig.suptitle('Different feature distributions')\n",
        "\n",
        "axes = axes.reshape(32,)\n",
        "\n",
        "for i,column in enumerate(df.columns):\n",
        "    kde_status = False\n",
        "    axes[i].set_yscale('log')\n",
        "    \n",
        "    if column == \"Time\" or column == \"Amount\":\n",
        "        kde_status = True\n",
        "        \n",
        "    sns.histplot(ax = axes[i],data = df, x= column,kde=kde_status)"
      ],
      "execution_count": null,
      "outputs": [
        {
          "output_type": "display_data",
          "data": {
            "image/png": "[encoded data removed]",
            "text/plain": [
              "<Figure size 2520x1800 with 32 Axes>"
            ]
          },
          "metadata": {
            "needs_background": "light"
          }
        }
      ]
    },
    {
      "cell_type": "code",
      "metadata": {
        "colab": {
          "base_uri": "https://localhost:8080/",
          "height": 296
        },
        "id": "hGYuEEsuB_na",
        "outputId": "90e9b362-b3d9-4ef9-ffd4-dfbc580ad956"
      },
      "source": [
        "# Let's have a closer look to Class distribution\n",
        "\n",
        "plot = sns.histplot(data = df , x = \"Class\")\n",
        "plot.set(yscale=\"log\")\n",
        "print()"
      ],
      "execution_count": null,
      "outputs": [
        {
          "output_type": "stream",
          "name": "stdout",
          "text": [
            "\n"
          ]
        },
        {
          "output_type": "display_data",
          "data": {
            "image/png": "[encoded data removed]",
            "text/plain": [
              "<Figure size 432x288 with 1 Axes>"
            ]
          },
          "metadata": {
            "needs_background": "light"
          }
        }
      ]
    },
    {
      "cell_type": "markdown",
      "metadata": {
        "id": "4AcxSpTCCgr-"
      },
      "source": [
        "As we can see, our data is heavily imbalanced with respect to target variable - Class. In further data preparation step we have to consider it and perform several techniques to resolve this issue."
      ]
    },
    {
      "cell_type": "code",
      "metadata": {
        "colab": {
          "base_uri": "https://localhost:8080/",
          "height": 946
        },
        "id": "0WV7Y87UCPJq",
        "outputId": "c834f5cf-1e83-4a3c-a1bc-54eb42b85e11"
      },
      "source": [
        "# Boxplots\n",
        "\n",
        "fig, axes = plt.subplots(6, 5, figsize=(35, 25))\n",
        "fig.suptitle('Different feature distributions')\n",
        "\n",
        "axes = axes.reshape(30,)\n",
        "\n",
        "for i,column in enumerate(df.columns[:-1]):\n",
        "    axes[i].set_yscale('symlog')\n",
        "    sns.boxplot(ax = axes[i],x=\"Class\", y=column,data=df)"
      ],
      "execution_count": null,
      "outputs": [
        {
          "output_type": "display_data",
          "data": {
            "image/png": "[encoded data removed]",
            "text/plain": [
              "<Figure size 2520x1800 with 30 Axes>"
            ]
          },
          "metadata": {
            "needs_background": "light"
          }
        }
      ]
    },
    {
      "cell_type": "markdown",
      "metadata": {
        "id": "2RijCQouC3Fb"
      },
      "source": [
        "### Preparing data for models"
      ]
    },
    {
      "cell_type": "code",
      "metadata": {
        "id": "cNWbuyT7CvDj"
      },
      "source": [
        "# Scaling Time and Amount\n",
        "\n",
        "\n",
        "transformer = RobustScaler()\n",
        "\n",
        "df['Amount'] = transformer.fit_transform(df['Amount'].values.reshape(-1,1))\n",
        "df['Time']   = transformer.fit_transform(df['Time'].values.reshape(-1,1))"
      ],
      "execution_count": null,
      "outputs": []
    },
    {
      "cell_type": "code",
      "metadata": {
        "colab": {
          "base_uri": "https://localhost:8080/"
        },
        "id": "9OmehTCp2Xd_",
        "outputId": "20557823-6f3e-4428-9a4a-163043f2d470"
      },
      "source": [
        "df[\"Class\"].unique()"
      ],
      "execution_count": null,
      "outputs": [
        {
          "output_type": "execute_result",
          "data": {
            "text/plain": [
              "array([0, 1])"
            ]
          },
          "metadata": {},
          "execution_count": 19
        }
      ]
    },
    {
      "cell_type": "code",
      "metadata": {
        "id": "0_9uurCADDSq"
      },
      "source": [
        "# Dealing with imbalanced data\n",
        "\n",
        "X = np.array(df.drop(columns = ['Class']))\n",
        "y = np.array(df['Class'])"
      ],
      "execution_count": null,
      "outputs": []
    },
    {
      "cell_type": "code",
      "metadata": {
        "id": "pfKKlDRuDi4F"
      },
      "source": [
        "from sklearn.utils import shuffle\n",
        "X , y = shuffle(X,y,random_state = 0)"
      ],
      "execution_count": null,
      "outputs": []
    },
    {
      "cell_type": "code",
      "metadata": {
        "colab": {
          "base_uri": "https://localhost:8080/"
        },
        "id": "r6hGfgQYD7gX",
        "outputId": "cc242df2-086e-4985-ca03-60688da30117"
      },
      "source": [
        "# Oversampling: SMOTE\n",
        "from imblearn.over_sampling import SMOTE\n",
        "\n",
        "over_X , over_y = SMOTE().fit_resample(X, y)\n",
        "over_X , over_y = shuffle(over_X,over_y,random_state = 0)"
      ],
      "execution_count": null,
      "outputs": [
        {
          "output_type": "stream",
          "name": "stderr",
          "text": [
            "/usr/local/lib/python3.7/dist-packages/sklearn/externals/six.py:31: FutureWarning: The module is deprecated in version 0.21 and will be removed in version 0.23 since we've dropped support for Python 2.7. Please rely on the official version of six (https://pypi.org/project/six/).\n",
            "  \"(https://pypi.org/project/six/).\", FutureWarning)\n",
            "/usr/local/lib/python3.7/dist-packages/sklearn/utils/deprecation.py:144: FutureWarning: The sklearn.neighbors.base module is  deprecated in version 0.22 and will be removed in version 0.24. The corresponding classes / functions should instead be imported from sklearn.neighbors. Anything that cannot be imported from sklearn.neighbors is now part of the private API.\n",
            "  warnings.warn(message, FutureWarning)\n",
            "/usr/local/lib/python3.7/dist-packages/sklearn/utils/deprecation.py:87: FutureWarning: Function safe_indexing is deprecated; safe_indexing is deprecated in version 0.22 and will be removed in version 0.24.\n",
            "  warnings.warn(msg, category=FutureWarning)\n"
          ]
        }
      ]
    },
    {
      "cell_type": "markdown",
      "metadata": {
        "id": "k8JFrejgQ9Es"
      },
      "source": [
        "### Using Oversampling"
      ]
    },
    {
      "cell_type": "code",
      "metadata": {
        "id": "3n9sNtxjGpEH"
      },
      "source": [
        "X_train, X_test, y_train, y_test = train_test_split(over_X,over_y, test_size=0.33, random_state=1, shuffle=True)"
      ],
      "execution_count": null,
      "outputs": []
    },
    {
      "cell_type": "code",
      "metadata": {
        "colab": {
          "base_uri": "https://localhost:8080/"
        },
        "id": "N4sEbvNwRPXs",
        "outputId": "6bd2caa2-bdeb-4f14-df10-582a4be6f2e7"
      },
      "source": [
        "from sklearn.mixture import GaussianMixture\n",
        "gm = GaussianMixture(n_components = 2, covariance_type = 'full', random_state=0, )\n",
        "gm.fit(X_train)"
      ],
      "execution_count": null,
      "outputs": [
        {
          "output_type": "execute_result",
          "data": {
            "text/plain": [
              "GaussianMixture(covariance_type='full', init_params='kmeans', max_iter=100,\n",
              "                means_init=None, n_components=2, n_init=1, precisions_init=None,\n",
              "                random_state=0, reg_covar=1e-06, tol=0.001, verbose=0,\n",
              "                verbose_interval=10, warm_start=False, weights_init=None)"
            ]
          },
          "metadata": {},
          "execution_count": 20
        }
      ]
    },
    {
      "cell_type": "code",
      "metadata": {
        "colab": {
          "base_uri": "https://localhost:8080/"
        },
        "id": "moxSUg8s5F5n",
        "outputId": "f69dcf72-12e0-40ca-a660-ade317bf2a83"
      },
      "source": [
        "c=gm.predict_proba(X_test)\n",
        "c"
      ],
      "execution_count": null,
      "outputs": [
        {
          "output_type": "execute_result",
          "data": {
            "text/plain": [
              "array([[0.0000000e+000, 1.0000000e+000],\n",
              "       [0.0000000e+000, 1.0000000e+000],\n",
              "       [0.0000000e+000, 1.0000000e+000],\n",
              "       ...,\n",
              "       [2.7125021e-056, 1.0000000e+000],\n",
              "       [6.1508333e-222, 1.0000000e+000],\n",
              "       [0.0000000e+000, 1.0000000e+000]])"
            ]
          },
          "metadata": {},
          "execution_count": 21
        }
      ]
    },
    {
      "cell_type": "code",
      "metadata": {
        "colab": {
          "base_uri": "https://localhost:8080/"
        },
        "id": "kkdTjk-n5LYK",
        "outputId": "3edf48be-ba3e-4fe1-a1ea-ea291479973b"
      },
      "source": [
        "y_pre = gm.predict(X_test)\n",
        "y_pre"
      ],
      "execution_count": null,
      "outputs": [
        {
          "output_type": "execute_result",
          "data": {
            "text/plain": [
              "array([1, 1, 1, ..., 1, 1, 1])"
            ]
          },
          "metadata": {},
          "execution_count": 22
        }
      ]
    },
    {
      "cell_type": "code",
      "metadata": {
        "colab": {
          "base_uri": "https://localhost:8080/"
        },
        "id": "h1GSo2ZG5RSP",
        "outputId": "d02b0f36-427c-46ad-aa9a-50629f92c733"
      },
      "source": [
        "from sklearn import metrics\n",
        "fpr, tpr, thresholds = metrics.roc_curve(y_test, y_pre)\n",
        "metrics.auc(fpr, tpr)"
      ],
      "execution_count": null,
      "outputs": [
        {
          "output_type": "execute_result",
          "data": {
            "text/plain": [
              "0.33809053423878477"
            ]
          },
          "metadata": {},
          "execution_count": 23
        }
      ]
    },
    {
      "cell_type": "code",
      "metadata": {
        "colab": {
          "base_uri": "https://localhost:8080/"
        },
        "id": "oEhHSg1O5Xgu",
        "outputId": "cd09c4ce-329d-4966-f6f4-c356d81c712d"
      },
      "source": [
        "# Import Libraries\n",
        "from sklearn.linear_model import LogisticRegression\n",
        "#----------------------------------------------------\n",
        "LogisticRegressionModel = LogisticRegression(penalty='l2',solver='sag',C=1.0,random_state=42,max_iter=100)\n",
        "LogisticRegressionModel.fit(X_train, y_train)"
      ],
      "execution_count": null,
      "outputs": [
        {
          "output_type": "stream",
          "name": "stderr",
          "text": [
            "/usr/local/lib/python3.7/dist-packages/sklearn/linear_model/_sag.py:330: ConvergenceWarning: The max_iter was reached which means the coef_ did not converge\n",
            "  \"the coef_ did not converge\", ConvergenceWarning)\n"
          ]
        },
        {
          "output_type": "execute_result",
          "data": {
            "text/plain": [
              "LogisticRegression(C=1.0, class_weight=None, dual=False, fit_intercept=True,\n",
              "                   intercept_scaling=1, l1_ratio=None, max_iter=100,\n",
              "                   multi_class='auto', n_jobs=None, penalty='l2',\n",
              "                   random_state=42, solver='sag', tol=0.0001, verbose=0,\n",
              "                   warm_start=False)"
            ]
          },
          "metadata": {},
          "execution_count": 24
        }
      ]
    },
    {
      "cell_type": "code",
      "metadata": {
        "colab": {
          "base_uri": "https://localhost:8080/"
        },
        "id": "hZKxtJsD5fJB",
        "outputId": "e1092ffb-7273-4524-cfa2-f4c7619442ac"
      },
      "source": [
        "print('LogisticRegressionModel Train Score is : ' , LogisticRegressionModel.score(X_train, y_train))"
      ],
      "execution_count": null,
      "outputs": [
        {
          "output_type": "stream",
          "name": "stdout",
          "text": [
            "LogisticRegressionModel Train Score is :  0.9473098466594222\n"
          ]
        }
      ]
    },
    {
      "cell_type": "code",
      "metadata": {
        "colab": {
          "base_uri": "https://localhost:8080/"
        },
        "id": "mY9M8YYV5psp",
        "outputId": "ed1647c2-eadf-437e-9df5-ab780a58a60f"
      },
      "source": [
        "print('LogisticRegressionModel Test Score is : ' , LogisticRegressionModel.score(X_test, y_test))"
      ],
      "execution_count": null,
      "outputs": [
        {
          "output_type": "stream",
          "name": "stdout",
          "text": [
            "LogisticRegressionModel Test Score is :  0.948424710095498\n"
          ]
        }
      ]
    },
    {
      "cell_type": "code",
      "metadata": {
        "id": "Fe-LsGL-5swe"
      },
      "source": [
        "y_pred = LogisticRegressionModel.predict(X_test)"
      ],
      "execution_count": null,
      "outputs": []
    },
    {
      "cell_type": "code",
      "metadata": {
        "colab": {
          "base_uri": "https://localhost:8080/"
        },
        "id": "OCQ6oJkj5xCL",
        "outputId": "8fe7e676-97a4-43c9-d5b3-685520e87f07"
      },
      "source": [
        "fpr, tpr, thresholds = metrics.roc_curve(y_test, y_pred)\n",
        "metrics.auc(fpr, tpr)"
      ],
      "execution_count": null,
      "outputs": [
        {
          "output_type": "execute_result",
          "data": {
            "text/plain": [
              "0.9484117547251205"
            ]
          },
          "metadata": {},
          "execution_count": 28
        }
      ]
    },
    {
      "cell_type": "code",
      "metadata": {
        "id": "c14CIk-e579B"
      },
      "source": [
        ""
      ],
      "execution_count": null,
      "outputs": []
    }
  ]
}